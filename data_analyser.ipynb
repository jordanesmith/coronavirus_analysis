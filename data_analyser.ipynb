{
 "cells": [
  {
   "cell_type": "code",
   "execution_count": 2,
   "metadata": {},
   "outputs": [],
   "source": [
    "import pandas as pd\n",
    "import numpy as np\n",
    "import matplotlib.pyplot as plt\n",
    "from datetime import datetime"
   ]
  },
  {
   "cell_type": "markdown",
   "metadata": {},
   "source": [
    "#  Worldometer somehow blocked me scraping their data ^^^\n",
    "\n",
    "so the next few cells are now irrelevant, but no harm in keeping them.\n",
    "\n",
    "(actually have deleted them now but want to remember this happened)"
   ]
  },
  {
   "cell_type": "markdown",
   "metadata": {},
   "source": [
    "# Wikipedia data\n",
    "\n",
    "For scraping the data from wikipedia for the rest of the world (ROW), source https://en.wikipedia.org/wiki/Template:2019–20_coronavirus_pandemic_data/International_medical_cases#Table, I resorted to copying and pasting the data into an excel spreadsheet 'myfile.xlsx' sheet 'world-china'\n",
    "\n",
    "\n",
    "For scraping the data from wikipedia for China, source https://en.wikipedia.org/wiki/Template:2019–20_coronavirus_pandemic_data/China_medical_cases_by_province, copied to 'myfile.xlsx' sheet 'china'.\n",
    "\n"
   ]
  },
  {
   "cell_type": "code",
   "execution_count": 3,
   "metadata": {},
   "outputs": [],
   "source": [
    "df_withoutChina = pd.read_excel (r'myfile.xlsx',sheet_name='world-china')\n",
    "df_china = pd.read_excel (r'myfile.xlsx',sheet_name='china')\n",
    "df_withoutChina_deaths = pd.read_excel (r'myfile.xlsx',sheet_name='world-china-deaths')\n",
    "\n"
   ]
  },
  {
   "cell_type": "markdown",
   "metadata": {},
   "source": [
    "# Neatening the numpy arrays of data\n",
    "\n",
    "Data is from table with regular titles at intervals, such as 'Date' repetition (for viewing purposes on wikipedia)\n",
    "\n",
    "Had to remove this for ease of analysis."
   ]
  },
  {
   "cell_type": "code",
   "execution_count": 4,
   "metadata": {},
   "outputs": [],
   "source": [
    "def remove_annoying_rows(array):\n",
    "    counter = 0\n",
    "    ignore_rows=[0,1,2]\n",
    "    while counter < np.shape(array)[0]:\n",
    "        row = array[counter]\n",
    "        is_row_string = False\n",
    "        if counter in ignore_rows:\n",
    "            pass\n",
    "        else:\n",
    "            if type(row[0]) == datetime:\n",
    "                pass\n",
    "            elif str(row[0])[0] == '2':\n",
    "                    pass\n",
    "            elif type(row[0]) == pd.Timestamp:\n",
    "                pass\n",
    "            else:\n",
    "                is_row_string = True\n",
    "            \n",
    "            if is_row_string == True:\n",
    "                array = np.delete(array, (counter), axis=0)\n",
    "        counter +=1 \n",
    "    \n",
    "    return(array)\n",
    "numpy_tables_withoutChina = remove_annoying_rows(pd.DataFrame.to_numpy(df_withoutChina,dtype='object'))\n",
    "numpy_tables_china = remove_annoying_rows(pd.DataFrame.to_numpy(df_china,dtype='object'))\n",
    "numpy_tables_withoutChina_deaths = remove_annoying_rows(pd.DataFrame.to_numpy(df_withoutChina_deaths,dtype='object'))\n"
   ]
  },
  {
   "cell_type": "markdown",
   "metadata": {},
   "source": [
    "# Create dictionaries for datasets \n",
    "\n",
    "to help with indexing down the line"
   ]
  },
  {
   "cell_type": "code",
   "execution_count": 5,
   "metadata": {},
   "outputs": [],
   "source": [
    "def create_dictionaryOf_indexes(data):\n",
    "    dictionary = {}\n",
    "    for i,country in enumerate(data[0]):\n",
    "        if country == '(local)':\n",
    "            pass\n",
    "        elif country == 'New that day' or country == 'Sum to date':\n",
    "            pass\n",
    "        else:\n",
    "            dictionary[str(country)] = i\n",
    "    return(dictionary)\n",
    "\n",
    "dictionary_cases_index = create_dictionaryOf_indexes(numpy_tables_withoutChina)\n",
    "dictionary_deaths_index = create_dictionaryOf_indexes(numpy_tables_withoutChina_deaths)\n",
    "\n"
   ]
  },
  {
   "cell_type": "code",
   "execution_count": 6,
   "metadata": {},
   "outputs": [],
   "source": [
    "#create a list of problamatic countries whose names are not the same on the cases spreadsheet and deaths spreadsheet\n",
    "problomatic_countries = []\n",
    "list_countries_cases = []\n",
    "list_countries_deaths = []\n",
    "\n",
    "for country in (numpy_tables_withoutChina[0]): list_countries_cases.append(country)\n",
    "for country in numpy_tables_withoutChina_deaths[0]: \n",
    "    list_countries_deaths.append(country)\n",
    "    if country not in list_countries_cases:\n",
    "        problomatic_countries.append(country)\n",
    "\n",
    "for country in numpy_tables_withoutChina[0]: \n",
    "    if country not in list_countries_deaths:\n",
    "        problomatic_countries.append(country)\n"
   ]
  },
  {
   "cell_type": "markdown",
   "metadata": {},
   "source": [
    "#  Data for China\n",
    "\n",
    "China has a seperate wikipedia page therefore have to calculate values seperately"
   ]
  },
  {
   "cell_type": "code",
   "execution_count": 7,
   "metadata": {},
   "outputs": [],
   "source": [
    "yvals_china = []\n",
    "dates_china = []\n",
    "previous_date_point = 0\n",
    "number_cases = 0\n",
    "date=0\n",
    "\n",
    "for date_point in numpy_tables_china[3:]:\n",
    "    date = date_point[0]\n",
    "    if type(date) != str and type(date_point[32]) != float:\n",
    "        number_cases = date_point[32] + previous_date_point\n",
    "        previous_date_point = number_cases\n",
    "\n",
    "        dates_china.append(date)\n",
    "        yvals_china.append(number_cases)\n",
    "            \n",
    "###need to convert dates_china from timestamp type to datetime tipe for analysis later\n",
    "for i,date in enumerate(dates_china):\n",
    "    if type(date) == pd.Timestamp:\n",
    "        dates_china[i] = date.to_pydatetime()\n",
    "    else:\n",
    "        print(type(date))\n"
   ]
  },
  {
   "cell_type": "markdown",
   "metadata": {},
   "source": [
    "# Data for Rest of World\n"
   ]
  },
  {
   "cell_type": "code",
   "execution_count": 8,
   "metadata": {},
   "outputs": [
    {
     "name": "stdout",
     "output_type": "stream",
     "text": [
      "date range : 2020-01-13 00:00:00 to:  2020-03-31 00:00:00\n"
     ]
    }
   ],
   "source": [
    "def produce_cumulative_data(array):\n",
    "    '''produce numpy array with structure:\n",
    "            date1 date2 date3 date4 date5 ... dateToday\n",
    "    country1: 0     0     1     2     5\n",
    "    country2: 0     1     7     19    60  etc.\n",
    "    country3:\n",
    "    ...\n",
    "    countryN\n",
    "    '''\n",
    "    \n",
    "    \n",
    "    index_length = np.shape(array)[1]\n",
    "    previous_cases = np.zeros(shape = (np.shape(array)[1]),dtype=int)\n",
    "    dates_ = np.zeros(shape=(1,np.shape(array)[0]),dtype = 'object')\n",
    "    yvals_ = np.zeros(shape=(np.shape(array)),dtype = 'object').T\n",
    "    \n",
    "\n",
    "    for i,date_point in enumerate(array):\n",
    "        if type(date_point[0]) != float:\n",
    "            if date_point[0][0] == '2':\n",
    "                for letter in range(len(date_point[0])):\n",
    "                    if date_point[0][letter] == '.': \n",
    "                        date_point[0] = date_point[0][:letter]+'-'+date_point[0][letter+1:]\n",
    "                for letter in range(1,len(date_point[0])-1):\n",
    "                    if date_point[0][letter-1] == '-' and date_point[0][letter+1] == '-':\n",
    "                        date_point[0] = date_point[0][:letter] + '0' + date_point[0][letter:]\n",
    "\n",
    "                date = datetime.strptime(date_point[0], '%y-%m-%d')\n",
    "                number_cases = np.zeros((len(array[0])))\n",
    "                for j in range(index_length):\n",
    "                    if type(date_point[j]) == int:\n",
    "                        if type(previous_cases[i]) == np.int32:\n",
    "                            number_cases[j] = int(date_point[j] + previous_cases[j])\n",
    "                            previous_cases[j] = int(number_cases[j])\n",
    "\n",
    "                        elif previous_cases[j] == 0:\n",
    "                            number_cases[j] = date_point[j]\n",
    "                            previous_cases[j] = int(number_cases[j])\n",
    "                    else:\n",
    "                        number_cases[j] = previous_cases[j]\n",
    "                    yvals_[j][i] = number_cases[j]                                            \n",
    "                dates_[0][i] = date \n",
    "    dates_ = dates_[0]\n",
    "    \n",
    "    columns_to_be_deleted = []\n",
    "    for j,day in enumerate(dates_):\n",
    "        if day == 0:\n",
    "            columns_to_be_deleted.append(j)\n",
    "\n",
    "    dates_ = np.delete(dates_,columns_to_be_deleted,0)\n",
    "    yvals_ = np.delete(yvals_,columns_to_be_deleted,1)\n",
    "    print('date range :', dates_[0],'to: ',dates_[-1])\n",
    "\n",
    "    \n",
    "    return(dates_,yvals_)\n",
    "                \n",
    "dates_cases,yvals_cases = produce_cumulative_data(numpy_tables_withoutChina)\n"
   ]
  },
  {
   "cell_type": "markdown",
   "metadata": {},
   "source": [
    "# Fatality data for ROW"
   ]
  },
  {
   "cell_type": "code",
   "execution_count": 9,
   "metadata": {},
   "outputs": [
    {
     "name": "stdout",
     "output_type": "stream",
     "text": [
      "date range : 2020-02-01 00:00:00 to:  2020-03-31 00:00:00\n"
     ]
    }
   ],
   "source": [
    "dates_deaths,yvals_deaths = produce_cumulative_data(numpy_tables_withoutChina_deaths)"
   ]
  },
  {
   "cell_type": "markdown",
   "metadata": {},
   "source": [
    "# Fatality rate data for ROW"
   ]
  },
  {
   "cell_type": "code",
   "execution_count": 10,
   "metadata": {},
   "outputs": [],
   "source": [
    "def find_index_forDate(date_to_be_indexed,cases_or_deaths):\n",
    "    '''finds index for given date'''\n",
    "    \n",
    "    if cases_or_deaths == 'cases':\n",
    "        for i,date in enumerate(dates_cases):\n",
    "            if date == date_to_be_indexed:\n",
    "                return(i)\n",
    "    elif cases_or_deaths == 'deaths':\n",
    "        for i,date in enumerate(dates_deaths):\n",
    "            if date == date_to_be_indexed:\n",
    "                return(i)\n",
    "            \n",
    "\n",
    "def find_countryName_fromDeathIndex(index_in_deaths):\n",
    "    for country_name in dictionary_deaths_index:\n",
    "#         print(dictionary_deaths_index.get(country_name),index_in_deaths)\n",
    "        if dictionary_deaths_index.get(country_name) == index_in_deaths:\n",
    "            return(country_name)\n",
    "\n",
    "        \n",
    "def produce_fatality_rate(percentage = True):\n",
    "    '''creates array with same dimensions as deaths array'''\n",
    "    fatality_rates = np.zeros(shape=(np.shape(yvals_deaths)),dtype = float)\n",
    "    \n",
    "    \n",
    "    for i,country in enumerate(yvals_deaths):\n",
    "        if find_countryName_fromDeathIndex(i) is not None:\n",
    "            country_string = find_countryName_fromDeathIndex(i)\n",
    "            if country_string in dictionary_deaths_index and country_string in dictionary_cases_index:\n",
    "                index_for_casesArray = dictionary_cases_index.get(country_string)\n",
    "                for j,date in enumerate(dates_deaths):\n",
    "                    index_fordate_inCases = find_index_forDate(date,'cases') #probably couldve done this earlier on to prevent it being done everytime this function iterates for each country\n",
    "                    if yvals_cases[index_for_casesArray,index_fordate_inCases] != 0:\n",
    "                        fatality_rates[i,j] = 100*yvals_deaths[i,j]/yvals_cases[index_for_casesArray,index_fordate_inCases]\n",
    "    return(fatality_rates)          \n",
    "\n",
    "yvals_fatality_rates = produce_fatality_rate()"
   ]
  },
  {
   "cell_type": "markdown",
   "metadata": {},
   "source": [
    "# Differentiation algorithm"
   ]
  },
  {
   "cell_type": "code",
   "execution_count": 35,
   "metadata": {},
   "outputs": [],
   "source": [
    "def differentiate(yvalues,time_periodInDays=1):\n",
    "    yvals = np.zeros(shape=(np.shape(yvalues)),dtype = float)\n",
    "    for i,country in enumerate(yvalues):\n",
    "        for j,value_on_date in enumerate(country):\n",
    "            if j != 0:   \n",
    "                yvals[i,j] = (yvalues[i,j] - yvalues[i,j-1])/time_periodInDays\n",
    "    return(yvals)"
   ]
  },
  {
   "cell_type": "markdown",
   "metadata": {},
   "source": [
    "# Exponential algorithm"
   ]
  },
  {
   "cell_type": "code",
   "execution_count": 46,
   "metadata": {},
   "outputs": [],
   "source": [
    "def exponential(yvalues):\n",
    "    yvals = np.zeros(shape=(np.shape(yvalues)),dtype = float)\n",
    "    for i,country in enumerate(yvalues):\n",
    "        for j,value_on_date in enumerate(country):\n",
    "            if j!= 0:\n",
    "                yvals[i,j] = (yvalues[i,j] - yvalues[i,j-1])/yvalues[i,j]\n",
    "    return(yvals)"
   ]
  },
  {
   "cell_type": "markdown",
   "metadata": {},
   "source": [
    "# Plotting the data"
   ]
  },
  {
   "cell_type": "code",
   "execution_count": 56,
   "metadata": {},
   "outputs": [],
   "source": [
    "import matplotlib as lib\n",
    "import matplotlib.dates as mdates\n",
    "import matplotlib.cbook as cbook\n",
    "\n",
    "\n",
    "def plot(type_of_plot,countries_list,cases_or_deaths,date_min_index = 0, date_max_index = -1, timeshift = None):\n",
    "    '''Different types of plot are: cumulative, new, acceleration,exponential,fatality rate.  \n",
    "    timeshift is in days and always applies to UK'''\n",
    "    \n",
    "    #  check of input\n",
    "    assert(type(countries_list) == list)\n",
    "    for country in countries_list:\n",
    "        assert(country not in problomatic_countries), 'The country ' + str(country) + 'is problomatic'\n",
    "        if cases_or_deaths =='cases':\n",
    "            assert(country in dictionary_cases_index), str(country) + ' is not in ' + str(dictionary_cases_index)\n",
    "        elif cases_or_deaths == 'deaths':\n",
    "            assert(country in dictionary_deaths_index), str(country) + ' is not in ' + str(dictionary_deaths_index)\n",
    "    if type_of_plot == 'fatality rate': assert(cases_or_deaths == None), 'Fatality rate requires argument \"cases_or_deaths_\" = None, but currently inputed as: ' + str(cases_or_deaths)\n",
    "     \n",
    "    #  setup stuff\n",
    "    fig, ax = plt.subplots(constrained_layout=True)\n",
    "    locator = mdates.AutoDateLocator()\n",
    "    formatter = mdates.ConciseDateFormatter(locator)\n",
    "    ax.xaxis.set_major_locator(locator)\n",
    "    ax.xaxis.set_major_formatter(formatter)\n",
    "\n",
    "    ax.grid(True)\n",
    "    if type_of_plot  == 'fatality rate':\n",
    "        ax.title.set_text(str(type_of_plot))\n",
    "        ax.set_ylabel('percentage')\n",
    "    elif timeshift is not None:\n",
    "        ax.title.set_text(str(type_of_plot) + ' plot of ' + str(cases_or_deaths) + ' with UK shifted back by ' +str(timeshift) + 'days')\n",
    "    elif type_of_plot == 'exponential':\n",
    "        ax.set_ylabel('Time Constant')\n",
    "        ax.title.set_text(str(type_of_plot) + ' plot of ' + str(cases_or_deaths))\n",
    "    else:\n",
    "        ax.title.set_text(str(type_of_plot) + ' plot of ' + str(cases_or_deaths))\n",
    "        \n",
    "    \n",
    "    #  define dates and yvals for each case\n",
    "    if cases_or_deaths == 'cases':\n",
    "        if type_of_plot == 'cumulative':\n",
    "            dates,yvals = dates_cases,yvals_cases\n",
    "        elif type_of_plot == 'new':\n",
    "            dates,yvals = dates_cases,differentiate(yvals_cases)\n",
    "        elif type_of_plot == 'acceleration':\n",
    "            dates,yvals = dates_cases,differentiate(differentiate(yvals_cases))\n",
    "        elif type_of_plot == 'exponential':\n",
    "            dates,yvals = dates_cases,exponential(yvals_cases)\n",
    "        else:\n",
    "            raise ValueError('type_of_plot is not inputed correctly')\n",
    "    \n",
    "    elif cases_or_deaths == 'deaths':\n",
    "        if type_of_plot == 'cumulative':\n",
    "            dates,yvals = dates_deaths,yvals_deaths\n",
    "        elif type_of_plot == 'new':\n",
    "            dates,yvals = dates_deaths,differentiate(yvals_deaths)\n",
    "        elif type_of_plot == 'acceleration':\n",
    "            dates,yvals = dates_deaths,differentiate(differentiate(yvals_deaths))\n",
    "        elif type_of_plot == 'exponential':\n",
    "            dates,yvals = dates_deaths,exponential(yvals_deaths)\n",
    "        else:\n",
    "            raise ValueError('type_of_plot is not inputed correctly')\n",
    "    \n",
    "    elif type_of_plot == 'fatality rate':\n",
    "        dates,yvals = dates_deaths,yvals_fatality_rates\n",
    "        \n",
    "    else:\n",
    "        raise ValueError('cases or deaths is not inputed correctly')\n",
    "    \n",
    "    #  now for timeshift effect\n",
    "    if timeshift is not None:\n",
    "        assert(type(timeshift) == int), 'timeshift needs to be in integers of days, current timeshift is '+ str(timeshift) + ' and type: ' + str(type(timeshift))\n",
    "        altered_dates_uk = []\n",
    "        for date in dates:\n",
    "            altered_dates_uk.append(np.datetime64(date)-np.timedelta64(timeshift, 'D'))\n",
    "        \n",
    "    \n",
    "    for country in countries_list:    \n",
    "        if cases_or_deaths == 'cases':\n",
    "            if country == 'United Kingdom':\n",
    "                if timeshift is not None:\n",
    "                    ax.plot(altered_dates_uk,yvals[dictionary_cases_index.get('United Kingdom')],label = ' Shifted UK',color = 'r')\n",
    "                else:\n",
    "                    ax.plot(dates,yvals[dictionary_cases_index.get('United Kingdom')],label = 'UK',color = 'r') # I wanted the UK to always be red\n",
    "            elif country == 'Spain':\n",
    "                ax.plot(dates,yvals[dictionary_cases_index.get('Spain')],label = 'Spain',color = 'y') # I wanted Spain to always be yellow\n",
    "            elif country == 'Italy':\n",
    "                ax.plot(dates,yvals[dictionary_cases_index.get('Italy')],label = 'Italy',color = 'g') # I wanted Italy to always be green       \n",
    "            elif country == 'United States':\n",
    "                ax.plot(dates,yvals[dictionary_cases_index.get('United States')],label = 'USA',color = 'b') # I wanted USA to always be blue\n",
    "            else:\n",
    "                ax.plot(dates,yvals[dictionary_cases_index.get(country)],label = str(country))        \n",
    "        elif cases_or_deaths == 'deaths':\n",
    "            if country == 'United Kingdom':\n",
    "                if timeshift is not None:\n",
    "                    ax.plot(altered_dates_uk,yvals[dictionary_deaths_index.get('United Kingdom')],label = ' Shifted UK',color = 'r')\n",
    "                else:\n",
    "                    ax.plot(dates,yvals[dictionary_deaths_index.get('United Kingdom')],label = 'UK',color = 'r') # I wanted the UK to always be red\n",
    "            elif country == 'Spain':\n",
    "                ax.plot(dates,yvals[dictionary_deaths_index.get('Spain')],label = 'Spain',color = 'y') # I wanted Spain to always be yellow\n",
    "            elif country == 'Italy':\n",
    "                ax.plot(dates,yvals[dictionary_deaths_index.get('Italy')],label = 'Italy',color = 'g') # I wanted Italy to always be green       \n",
    "            elif country == 'United States':\n",
    "                ax.plot(dates,yvals[dictionary_deaths_index.get('United States')],label = 'USA',color = 'b') # I wanted USA to always be blue\n",
    "            else:\n",
    "                ax.plot(dates,yvals[dictionary_deaths_index.get(country)],label = str(country))\n",
    "        elif type_of_plot == 'fatality rate':\n",
    "            if country == 'United Kingdom':\n",
    "                if timeshift is not None:\n",
    "                    ax.plot(altered_dates_uk,yvals[dictionary_deaths_index.get('United Kingdom')],label = ' Shifted UK',color = 'r')\n",
    "                else:\n",
    "                    ax.plot(dates,yvals[dictionary_deaths_index.get('United Kingdom')],label = 'UK',color = 'r') # I wanted the UK to always be red\n",
    "            elif country == 'Spain':\n",
    "                ax.plot(dates,yvals[dictionary_deaths_index.get('Spain')],label = 'Spain',color = 'y') # I wanted Spain to always be yellow\n",
    "            elif country == 'Italy':\n",
    "                ax.plot(dates,yvals[dictionary_deaths_index.get('Italy')],label = 'Italy',color = 'g') # I wanted Italy to always be green       \n",
    "            elif country == 'United States':\n",
    "                ax.plot(dates,yvals[dictionary_deaths_index.get('United States')],label = 'USA',color = 'b') # I wanted USA to always be blue\n",
    "            else:\n",
    "                ax.plot(dates,yvals[dictionary_deaths_index.get(country)],label = str(country))\n",
    "    \n",
    "    datemin = np.datetime64(dates[date_min_index], 'D')\n",
    "    datemax = np.datetime64(dates[date_max_index], 'D')\n",
    "    ax.set_xlim(datemin, datemax)\n",
    "\n",
    "    ax.legend(loc='best')\n",
    "    \n",
    "    \n",
    "    fig.savefig('plots/' + str(type_of_plot) + str(cases_or_deaths) + str(countries_list) + 'timeshift='+str(timeshift)+'.png')\n",
    "    \n",
    "\n"
   ]
  },
  {
   "cell_type": "code",
   "execution_count": 58,
   "metadata": {},
   "outputs": [],
   "source": [
    "# plot('cumulative',['United Kingdom','United States','Italy','Spain','France'],'cases',date_min_index=40)\n",
    "# plot('cumulative',['Italy','Spain'],'deaths',date_min_index=18)\n",
    "# plot('cumulative',['United Kingdom','France'],'cases',timeshift = 7,date_min_index=40)\n",
    "# plot('fatality rate',['United Kingdom','Italy','Spain'],cases_or_deaths=None)\n",
    "# plot('acceleration',['Italy','Spain'],'deaths',date_min_index=15)\n",
    "# plot('exponential',['United Kingdom','Italy','France','Spain'],'cases',date_min_index=20)\n",
    "# plot('exponential',['United Kingdom','Italy','France','Spain'],'deaths')\n"
   ]
  },
  {
   "cell_type": "markdown",
   "metadata": {},
   "source": [
    "# My First Theory after looking at the data\n",
    "\n",
    "The above chart seems to show a trend that every day, the number of new cases,N ~ 30% (R) of total cases over 10 days previously.\n",
    "\n",
    "\\begin{equation*}\n",
    "    N(X) = \\left(R \\sum_{x=-10}^{0}N(x) \\right) \n",
    "\\end{equation*}\n",
    "where k is in days"
   ]
  },
  {
   "cell_type": "code",
   "execution_count": 15,
   "metadata": {},
   "outputs": [
    {
     "ename": "NameError",
     "evalue": "name 'yvals_governement_effect' is not defined",
     "output_type": "error",
     "traceback": [
      "\u001b[1;31m---------------------------------------------------------------------------\u001b[0m",
      "\u001b[1;31mNameError\u001b[0m                                 Traceback (most recent call last)",
      "\u001b[1;32m<ipython-input-15-9d9906b299e3>\u001b[0m in \u001b[0;36m<module>\u001b[1;34m\u001b[0m\n\u001b[1;32m----> 1\u001b[1;33m \u001b[0myvals_governement_effect\u001b[0m\u001b[1;33m[\u001b[0m\u001b[0muk_index\u001b[0m\u001b[1;33m]\u001b[0m\u001b[1;33m[\u001b[0m\u001b[1;36m45\u001b[0m\u001b[1;33m:\u001b[0m\u001b[1;33m]\u001b[0m\u001b[1;33m\u001b[0m\u001b[1;33m\u001b[0m\u001b[0m\n\u001b[0m",
      "\u001b[1;31mNameError\u001b[0m: name 'yvals_governement_effect' is not defined"
     ]
    }
   ],
   "source": [
    "yvals_governement_effect[uk_index][45:]"
   ]
  },
  {
   "cell_type": "code",
   "execution_count": null,
   "metadata": {},
   "outputs": [],
   "source": [
    "#start from first value:\n",
    "R = np.mean(yvals_governement_effect[uk_index][47:])/100\n",
    "print(R)"
   ]
  },
  {
   "cell_type": "code",
   "execution_count": null,
   "metadata": {},
   "outputs": [],
   "source": [
    "predictions = np.zeros(shape =(14,2),dtype='object')\n",
    "\n",
    "for i,row in enumerate(predictions):\n",
    "    row[0] = np.datetime64(dates[-10], 'D') + np.timedelta64(i, 'D')\n",
    "    row[1] = yvals_[uk_index][-10+i] \n",
    "    if i == 10:\n",
    "        row[1] += R*(yvals_[uk_index][-1]- yvals_[uk_index][-10]) + predictions[i-1][1]\n",
    "    elif i > 10:\n",
    "        row[1] += R*(predictions[i-1][1] - yvals_[uk_index][i-20]) + predictions[i-1][1]\n",
    "\n",
    "\n",
    "predictions"
   ]
  }
 ],
 "metadata": {
  "kernelspec": {
   "display_name": "Python 3",
   "language": "python",
   "name": "python3"
  },
  "language_info": {
   "codemirror_mode": {
    "name": "ipython",
    "version": 3
   },
   "file_extension": ".py",
   "mimetype": "text/x-python",
   "name": "python",
   "nbconvert_exporter": "python",
   "pygments_lexer": "ipython3",
   "version": "3.7.3"
  }
 },
 "nbformat": 4,
 "nbformat_minor": 2
}
