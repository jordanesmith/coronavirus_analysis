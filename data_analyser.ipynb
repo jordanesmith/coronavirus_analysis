{
 "cells": [
  {
   "cell_type": "code",
   "execution_count": 62,
   "metadata": {},
   "outputs": [],
   "source": [
    "import pandas as pd\n",
    "import numpy as np\n",
    "import matplotlib.pyplot as plt\n",
    "from datetime import datetime"
   ]
  },
  {
   "cell_type": "markdown",
   "metadata": {},
   "source": [
    "# Worldometer Data\n",
    "\n",
    "Data is from: https://www.worldometers.info/coronavirus/\n",
    "\n",
    "I resorted to copying and pasting the data into an excel spreadsheet 'myfile.xlsx'."
   ]
  },
  {
   "cell_type": "code",
   "execution_count": 63,
   "metadata": {},
   "outputs": [],
   "source": [
    "df_cases = pd.read_excel (r'myfile.xlsx',sheet_name='cases')\n",
    "df_deaths = pd.read_excel (r'myfile.xlsx',sheet_name='deaths')\n",
    "df_test = pd.read_excel(r'myfile.xlsx',sheet_name='tests')"
   ]
  },
  {
   "cell_type": "markdown",
   "metadata": {},
   "source": [
    "# Neatening the numpy arrays of data\n",
    "\n",
    "Data is from table with regular titles at intervals, such as 'Date' repetition (for viewing purposes on wikipedia)\n",
    "\n",
    "Had to remove this for ease of analysis."
   ]
  },
  {
   "cell_type": "code",
   "execution_count": 64,
   "metadata": {},
   "outputs": [
    {
     "name": "stdout",
     "output_type": "stream",
     "text": [
      "[['(local)' 'Argentina' 'Chile' ... 'Russia' 'ignore' 'International']\n",
      " [nan nan nan ... nan nan nan]\n",
      " ['20.1.10' nan nan ... nan 0 nan]\n",
      " ...\n",
      " ['20.4.05' nan nan ... nan nan 71409]\n",
      " ['20.4.06' nan nan ... nan nan 73142]\n",
      " ['20.4.07' nan nan ... nan nan 84915]]\n"
     ]
    }
   ],
   "source": [
    "def remove_annoying_rows(array):\n",
    "    counter = 0\n",
    "    ignore_rows=[0,1,2]\n",
    "    while counter < np.shape(array)[0]:\n",
    "        row = array[counter]\n",
    "        is_row_string = False\n",
    "        if counter in ignore_rows:\n",
    "            pass\n",
    "        else:\n",
    "            if type(row[0]) == datetime:\n",
    "                pass\n",
    "            elif str(row[0])[0] == '2':\n",
    "                    pass\n",
    "            elif type(row[0]) == pd.Timestamp:\n",
    "                pass\n",
    "            else:\n",
    "                is_row_string = True\n",
    "            \n",
    "            if is_row_string == True:\n",
    "                array = np.delete(array, (counter), axis=0)\n",
    "        counter +=1 \n",
    "    \n",
    "    return(array)\n",
    "numpy_tables_cases = remove_annoying_rows(pd.DataFrame.to_numpy(df_cases,dtype='object'))\n",
    "numpy_tables_deaths = remove_annoying_rows(pd.DataFrame.to_numpy(df_deaths,dtype='object'))\n",
    "print(numpy_tables_cases)"
   ]
  },
  {
   "cell_type": "markdown",
   "metadata": {},
   "source": [
    "# Create dictionaries for datasets \n",
    "\n",
    "to help with indexing down the line"
   ]
  },
  {
   "cell_type": "code",
   "execution_count": 65,
   "metadata": {},
   "outputs": [],
   "source": [
    "def create_dictionaryOf_indexes(data):\n",
    "    dictionary = {}\n",
    "    for i,country in enumerate(data[0]):\n",
    "        if country == '(local)':\n",
    "            pass\n",
    "        elif country == 'New that day' or country == 'Sum to date':\n",
    "            pass\n",
    "        else:\n",
    "            dictionary[str(country)] = i\n",
    "    return(dictionary)\n",
    "\n",
    "dictionary_cases_index = create_dictionaryOf_indexes(numpy_tables_cases)\n",
    "dictionary_deaths_index = create_dictionaryOf_indexes(numpy_tables_deaths)"
   ]
  },
  {
   "cell_type": "code",
   "execution_count": 66,
   "metadata": {},
   "outputs": [],
   "source": [
    "#create a list of problamatic countries whose names are not the same on the cases spreadsheet and deaths spreadsheet\n",
    "#Extra care must be taken when analysing these countries\n",
    "problomatic_countries = []\n",
    "list_countries_cases = []\n",
    "list_countries_deaths = []\n",
    "\n",
    "for country in (numpy_tables_cases[0]): list_countries_cases.append(country)\n",
    "for country in numpy_tables_deaths[0]: \n",
    "    list_countries_deaths.append(country)\n",
    "    if country not in list_countries_cases:\n",
    "        problomatic_countries.append(country)\n",
    "\n",
    "for country in numpy_tables_cases[0]: \n",
    "    if country not in list_countries_deaths:\n",
    "        problomatic_countries.append(country)\n",
    "\n"
   ]
  },
  {
   "cell_type": "code",
   "execution_count": 79,
   "metadata": {},
   "outputs": [],
   "source": [
    "trendline_colour_dictionary = {}\n",
    "data_colour_dictionary = {}\n",
    "\n",
    "trendline_colour_dictionary['UK'],trendline_colour_dictionary['Italy'],trendline_colour_dictionary['Spain']='r','g','y'\n",
    "trendline_colour_dictionary['United States'],trendline_colour_dictionary['Sweden']='b','y'\n",
    "trendline_colour_dictionary['Brazil'],trendline_colour_dictionary['Australia']='green','blue'\n",
    "\n",
    "data_colour_dictionary['UK'],data_colour_dictionary['Italy'],data_colour_dictionary['Spain']='tomato','lime','khaki'\n",
    "data_colour_dictionary['United States'],data_colour_dictionary['Sweden']='deepskyblue','yellow'\n",
    "data_colour_dictionary['Brazil'],data_colour_dictionary['Australia']='limegreen','cornflowerblue'"
   ]
  },
  {
   "cell_type": "markdown",
   "metadata": {},
   "source": [
    "# Population of Countries"
   ]
  },
  {
   "cell_type": "code",
   "execution_count": 80,
   "metadata": {},
   "outputs": [],
   "source": [
    "import requests\n",
    "import lxml.html as lh\n",
    "import pandas as pd\n",
    "\n",
    "url='https://www.worldometers.info/world-population/population-by-country/'\n",
    "\n",
    "#Create a handle, page, to handle the contents of the website\n",
    "page = requests.get(url)\n",
    "#Store the contents of the website under doc\n",
    "doc = lh.fromstring(page.content)\n",
    "#Parse data that are stored between <tr>..</tr> of HTML\n",
    "tr_elements = doc.xpath('//tr')\n",
    "\n",
    "#create dictionary for country:population\n",
    "population_dictionary = {}\n",
    "\n",
    "for T in tr_elements[1:]: population_dictionary[T[1].text_content()] = int(T[2].text_content().replace(',', '')) \n",
    "population_dictionary['International'] =  7775500000\n",
    "population_dictionary['UK'] = population_dictionary.get('United Kingdom')\n",
    "# population_dictionary"
   ]
  },
  {
   "cell_type": "markdown",
   "metadata": {},
   "source": [
    "# Producing cumulative data\n"
   ]
  },
  {
   "cell_type": "code",
   "execution_count": 81,
   "metadata": {},
   "outputs": [
    {
     "name": "stdout",
     "output_type": "stream",
     "text": [
      "date range : 2020-01-10 00:00:00 to:  2020-04-07 00:00:00\n",
      "date range : 2020-01-21 00:00:00 to:  2020-04-07 00:00:00\n"
     ]
    }
   ],
   "source": [
    "def produce_cumulative_data(array):\n",
    "    '''produce numpy array with structure:\n",
    "            date1 date2 date3 date4 date5 ... dateToday\n",
    "    country1: 0     0     1     2     5\n",
    "    country2: 0     1     7     19    60  etc.\n",
    "    country3:\n",
    "    ...\n",
    "    countryN\n",
    "    '''\n",
    "    \n",
    "    \n",
    "    index_length = np.shape(array)[1]\n",
    "    previous_cases = np.zeros(shape = (np.shape(array)[1]),dtype=int)\n",
    "    dates_ = np.zeros(shape=(1,np.shape(array)[0]),dtype = 'object')\n",
    "    yvals_ = np.zeros(shape=(np.shape(array)),dtype = 'object').T\n",
    "    \n",
    "\n",
    "    for i,date_point in enumerate(array):\n",
    "        if type(date_point[0]) != float:\n",
    "            if date_point[0][0] == '2':\n",
    "                for letter in range(len(date_point[0])):\n",
    "                    if date_point[0][letter] == '.': \n",
    "                        date_point[0] = date_point[0][:letter]+'-'+date_point[0][letter+1:]\n",
    "                for letter in range(1,len(date_point[0])-1):\n",
    "                    if date_point[0][letter-1] == '-' and date_point[0][letter+1] == '-':\n",
    "                        date_point[0] = date_point[0][:letter] + '0' + date_point[0][letter:]\n",
    "\n",
    "                date = datetime.strptime(date_point[0], '%y-%m-%d')\n",
    "                number_cases = np.zeros((len(array[0])))\n",
    "                for j in range(index_length):\n",
    "                    if type(date_point[j]) == int:\n",
    "                        if type(previous_cases[i]) == np.int32:\n",
    "                            number_cases[j] = int(date_point[j] + previous_cases[j])\n",
    "                            previous_cases[j] = int(number_cases[j])\n",
    "\n",
    "                        elif previous_cases[j] == 0:\n",
    "                            number_cases[j] = date_point[j]\n",
    "                            previous_cases[j] = int(number_cases[j])\n",
    "                    else:\n",
    "                        number_cases[j] = previous_cases[j]\n",
    "                    yvals_[j][i] = number_cases[j]                                            \n",
    "                dates_[0][i] = date \n",
    "    dates_ = dates_[0]\n",
    "    \n",
    "    columns_to_be_deleted = []\n",
    "    for j,day in enumerate(dates_):\n",
    "        if day == 0:\n",
    "            columns_to_be_deleted.append(j)\n",
    "\n",
    "    dates_ = np.delete(dates_,columns_to_be_deleted,0)\n",
    "    yvals_ = np.delete(yvals_,columns_to_be_deleted,1)\n",
    "    print('date range :', dates_[0],'to: ',dates_[-1])\n",
    "\n",
    "    \n",
    "    return(dates_,yvals_)\n",
    "                \n",
    "dates_cases,yvals_cases = produce_cumulative_data(numpy_tables_cases)\n",
    "dates_deaths,yvals_deaths = produce_cumulative_data(numpy_tables_deaths)\n",
    "\n",
    "\n"
   ]
  },
  {
   "cell_type": "markdown",
   "metadata": {},
   "source": [
    "# Fatality rate data for ROW"
   ]
  },
  {
   "cell_type": "code",
   "execution_count": 82,
   "metadata": {},
   "outputs": [],
   "source": [
    "def find_index_forDate(date_to_be_indexed,cases_or_deaths):\n",
    "    '''finds index for given date'''\n",
    "    \n",
    "    if cases_or_deaths == 'cases':\n",
    "        for i,date in enumerate(dates_cases):\n",
    "            if date == date_to_be_indexed:\n",
    "                return(i)\n",
    "    elif cases_or_deaths == 'deaths':\n",
    "        for i,date in enumerate(dates_deaths):\n",
    "            if date == date_to_be_indexed:\n",
    "                return(i)\n",
    "            \n",
    "\n",
    "def find_countryName_fromIndex(index,cases_or_deaths):\n",
    "    if cases_or_deaths == 'cases':\n",
    "        for country_name in dictionary_cases_index:\n",
    "            if dictionary_cases_index.get(country_name) == index:\n",
    "                return(country_name)\n",
    "    elif cases_or_deaths == 'deaths':\n",
    "        for country_name in dictionary_deaths_index:\n",
    "            if dictionary_deaths_index.get(country_name) == index:\n",
    "                return(country_name)\n",
    "\n",
    "        \n",
    "def produce_fatality_rate(percentage = True):\n",
    "    '''creates array with same dimensions as deaths array'''\n",
    "    fatality_rates = np.zeros(shape=(np.shape(yvals_deaths)),dtype = float)\n",
    "    \n",
    "    \n",
    "    for i,country in enumerate(yvals_deaths):\n",
    "        if find_countryName_fromIndex(i,'deaths') is not None:\n",
    "            country_string = find_countryName_fromIndex(i,'deaths')\n",
    "            if country_string in dictionary_deaths_index and country_string in dictionary_cases_index:\n",
    "                index_for_casesArray = dictionary_cases_index.get(country_string)\n",
    "                for j,date in enumerate(dates_deaths):\n",
    "                    index_fordate_inCases = find_index_forDate(date,'cases') #probably couldve done this earlier on to prevent it being done everytime this function iterates for each country\n",
    "                    if yvals_cases[index_for_casesArray,index_fordate_inCases] != 0:\n",
    "                        fatality_rates[i,j] = 100*yvals_deaths[i,j]/yvals_cases[index_for_casesArray,index_fordate_inCases]\n",
    "    return(fatality_rates)          \n",
    "\n",
    "yvals_fatality_rates = produce_fatality_rate()"
   ]
  },
  {
   "cell_type": "markdown",
   "metadata": {},
   "source": [
    "# Differentiation algorithm"
   ]
  },
  {
   "cell_type": "code",
   "execution_count": 83,
   "metadata": {},
   "outputs": [],
   "source": [
    "def differentiate(yvalues,time_periodInDays=1):\n",
    "    yvals = np.zeros(shape=(np.shape(yvalues)),dtype = float)\n",
    "    for i,country in enumerate(yvalues):\n",
    "        for j,value_on_date in enumerate(country):\n",
    "            if j != 0:   \n",
    "                yvals[i,j] = (yvalues[i,j] - yvalues[i,j-1])/time_periodInDays\n",
    "    return(yvals)"
   ]
  },
  {
   "cell_type": "markdown",
   "metadata": {},
   "source": [
    "# Exponential algorithm"
   ]
  },
  {
   "cell_type": "code",
   "execution_count": 84,
   "metadata": {},
   "outputs": [],
   "source": [
    "def exponential(yvalues):\n",
    "    yvals = np.zeros(shape=(np.shape(yvalues)),dtype = float)\n",
    "    for i,country in enumerate(yvalues):\n",
    "        for j,value_on_date in enumerate(country):\n",
    "            if j!= 0:\n",
    "                yvals[i,j] = (yvalues[i,j] - yvalues[i,j-1])/yvalues[i,j]\n",
    "    return(yvals)"
   ]
  },
  {
   "cell_type": "markdown",
   "metadata": {},
   "source": [
    "# Divide all values by population algorithm"
   ]
  },
  {
   "cell_type": "code",
   "execution_count": 85,
   "metadata": {},
   "outputs": [],
   "source": [
    "def divide_by_population(yvalues,cases_or_deaths):\n",
    "    index_dictionary = {}\n",
    "    if cases_or_deaths == 'cases': index_dictionary = dictionary_cases_index\n",
    "    elif cases_or_deaths == 'deaths': index_dictionary = dictionary_deaths_index\n",
    "    new_yvalues = np.zeros(shape=(np.shape(yvalues)),dtype = float)\n",
    "        \n",
    "    for index,country in enumerate(yvalues):\n",
    "        new_yvalues[index] = country\n",
    "        population = 0\n",
    "        country_name = find_countryName_fromIndex(index,cases_or_deaths)\n",
    "        if country_name and country_name not in problomatic_countries:\n",
    "            population = population_dictionary[find_countryName_fromIndex(index,cases_or_deaths)]\n",
    "            new_yvalues[index] /= population\n",
    "    \n",
    "    return(new_yvalues)\n",
    "\n"
   ]
  },
  {
   "cell_type": "markdown",
   "metadata": {},
   "source": [
    "# Trendline algorithm"
   ]
  },
  {
   "cell_type": "code",
   "execution_count": 86,
   "metadata": {},
   "outputs": [],
   "source": [
    "def polyreg(yvalues, k):\n",
    "    # The function should return the the coefficient vector beta, the fit, and the vector of residuals\n",
    "#     print(yvalues)\n",
    "    all_ones = np.ones(np.shape(yvalues))\n",
    "    if k == 0:\n",
    "        A = np.vstack((np.ones(np.shape(yvalues)), yvalues)).T\n",
    "        beta_point = np.linalg.lstsq(A, yvalues, rcond=None)[0][0] #finds mean point\n",
    "        array_of_point = np.transpose(np.ones(np.shape(yvalues))*beta_point)\n",
    "        fit_0 = np.mean(yvalues)*all_ones\n",
    "        resid_point = yvalues - fit_0\n",
    "        return(beta_point,fit_0,resid_point)\n",
    "    \n",
    "    elif k>=0:\n",
    "        for i in range(k+1):\n",
    "            if i == 0:\n",
    "                A_T = ([np.ones(np.shape(yvalues))])\n",
    "            else:\n",
    "                A_T = np.vstack((A_T,yvalues**i))\n",
    "        A = np.transpose(A_T)  \n",
    "        beta_polynomial = np.linalg.lstsq(A, yvalues, rcond=None)[0]\n",
    "        fit_polynomial = A.dot(beta_polynomial)\n",
    "        resid_polynomial = yvalues - fit_polynomial\n",
    "#         print(beta_polynomial,fit_polynomial,resid_polynomial)\n",
    "        return(beta_polynomial,fit_polynomial,resid_polynomial)\n"
   ]
  },
  {
   "cell_type": "markdown",
   "metadata": {},
   "source": [
    "# Plotting the data"
   ]
  },
  {
   "cell_type": "code",
   "execution_count": 147,
   "metadata": {},
   "outputs": [],
   "source": [
    "import matplotlib as lib\n",
    "import matplotlib.dates as mdates\n",
    "import matplotlib.cbook as cbook\n",
    "import matplotlib.style\n",
    "import warnings\n",
    "warnings.simplefilter('ignore',RuntimeWarning)\n",
    "# warnings.simplefilter('ignore',RankWarning)\n",
    "style = 'seaborn'\n",
    "list_inputs = ['cumulative','new','acceleration','exponential','fatality rate']\n",
    "\n",
    "\n",
    "def plot(type_of_plot,countries_list,cases_or_deaths,date_min_index=0,\n",
    "         annotation = None,date_max_index=None,timeshift=None,title='auto',\n",
    "         trendline=False,divideBy_population=False,style=style):\n",
    "    '''Different types of plot are: cumulative, new, acceleration,exponential,fatality rate.  \n",
    "    timeshift is in days and always applies to UK'''\n",
    "    \n",
    "    ##### checks #####\n",
    "    assert(type(countries_list) == list)\n",
    "    assert(type_of_plot in list_inputs), 'type_of_plot = ' + str(type_of_plot) + 'is not in ' + list_inputs\n",
    "    if divideBy_population == True:\n",
    "        assert(type_of_plot != 'exponential' and type_of_plot != 'fatality rate'), 'doesnt make sense to divide by population for plot of: '+type_of_plot\n",
    "    for country in countries_list:\n",
    "        if type_of_plot == 'fatality rate': assert(country not in problomatic_countries), 'The country ' + str(country) + 'is problomatic'\n",
    "        if cases_or_deaths =='cases':\n",
    "            assert(country in dictionary_cases_index), str(country) + ' is not in ' + str(dictionary_cases_index)\n",
    "        elif cases_or_deaths == 'deaths':\n",
    "            assert(country in dictionary_deaths_index), str(country) + ' is not in ' + str(dictionary_deaths_index)\n",
    "    if type_of_plot == 'fatality rate': assert(cases_or_deaths == None), 'Fatality rate requires argument \"cases_or_deaths_\" = None, but currently inputed as: ' + str(cases_or_deaths)\n",
    "    ##### checks #####\n",
    "\n",
    "    ##### setup stuff #####\n",
    "    with plt.style.context(style):\n",
    "        fig, ax = plt.subplots(num=style)\n",
    "    locator = mdates.AutoDateLocator()\n",
    "    formatter = mdates.ConciseDateFormatter(locator)\n",
    "    ax.xaxis.set_major_locator(locator)\n",
    "    ax.xaxis.set_major_formatter(formatter)\n",
    "    ax.grid(True)\n",
    "    ##### setup stuff #####\n",
    "    \n",
    "    ###### title stuff #####\n",
    "    end_title = ''\n",
    "    if timeshift:\n",
    "        end_title += ' with UK shifted back by ' +str(timeshift) + 'days'\n",
    "    if divideBy_population == True:\n",
    "        end_title += ' divided by population'\n",
    "        ax.set_ylabel('percentage of population')  \n",
    "    str_cases_or_deaths = str(cases_or_deaths)\n",
    "    if cases_or_deaths == None: str_cases_or_deaths = ''\n",
    "    auto_title = str(type_of_plot)+' '+str_cases_or_deaths+end_title\n",
    "    if title == 'auto':\n",
    "        ax.title.set_text(auto_title)\n",
    "    else:\n",
    "        ax.title.set_text(str(title))\n",
    "        print('auto title would be:'+ auto_title)\n",
    "    ##### title stuff #####\n",
    "    \n",
    "    ##### axis stuff  #####\n",
    "    if type_of_plot  == 'fatality rate':\n",
    "        ax.set_ylabel('percentage deaths/cases')\n",
    "    elif type_of_plot == 'new':\n",
    "        if divide_by_population == True:\n",
    "            ax.set_ylabel('percentage cases/population')\n",
    "    elif type_of_plot == 'exponential':\n",
    "        ax.set_ylabel('Time Constant')\n",
    "    elif divideBy_population == True:\n",
    "        ax.set_ylabel('percentage of population')\n",
    "    ###### axis stuff #####    \n",
    "    \n",
    "    ##### define dates and yvals #####\n",
    "    if cases_or_deaths == 'cases':\n",
    "        dates,yvals = dates_cases,yvals_cases\n",
    "    elif cases_or_deaths == 'deaths':\n",
    "        dates,yvals = dates_deaths,yvals_deaths\n",
    "    else:\n",
    "        dates,yvals = dates_deaths,yvals_fatality_rates\n",
    "        print('***yvalues used are of fatality rate***')\n",
    "    \n",
    "    if type_of_plot == 'new':\n",
    "        yvals = differentiate(yvals)\n",
    "    elif type_of_plot == 'acceleration':\n",
    "        yvals = differentiate(differentiate(yvals))\n",
    "    elif type_of_plot == 'exponential':\n",
    "        yvals = exponential(yvals)\n",
    "    ##### define dates and yvals ######\n",
    "        \n",
    "        \n",
    "    ##### timeshift function #####\n",
    "    if timeshift is not None:\n",
    "        assert(type(timeshift) == int), 'timeshift needs to be in integers of days, current timeshift is '+ str(timeshift) + ' and type: ' + str(type(timeshift))\n",
    "        altered_dates_uk = []\n",
    "        for date in dates:\n",
    "            altered_dates_uk.append(np.datetime64(date)-np.timedelta64(timeshift, 'D'))\n",
    "    ##### timeshift function #####\n",
    "    \n",
    "    ##### divide by population function #####\n",
    "    if divideBy_population == True: \n",
    "        yvals = 100*divide_by_population(yvals,cases_or_deaths)\n",
    "    ##### divide by population function #####\n",
    "    \n",
    "    ##### date range #####\n",
    "    dates,yvals = dates[date_min_index:date_max_index],[yvals[i][date_min_index:date_max_index] for i in range(np.shape(yvals)[0])] \n",
    "    ##### date range #####\n",
    "    \n",
    "    ##### plotting time #####\n",
    "    for country in countries_list:    \n",
    "        if cases_or_deaths == 'cases':\n",
    "            dictionary=dictionary_cases_index\n",
    "        elif cases_or_deaths =='deaths' or type_of_plot == 'fatality rate':\n",
    "            dictionary=dictionary_deaths_index\n",
    "        \n",
    "        if country =='UK' and timeshift is not None:\n",
    "            ax.plot(altered_dates_uk,yvals[dictionary.get('UK')],label = ' Shifted UK',color = 'tomato')\n",
    "        else:\n",
    "            ax.plot(dates,yvals[dictionary.get(country)],label = country, color = data_colour_dictionary.get(country))\n",
    "    ##### plotting time #####\n",
    "    \n",
    "    ##### add trendlines #####\n",
    "    if trendline == True:\n",
    "        degree = 50\n",
    "        cutoff_index = -1\n",
    "        dates_ = dates[:cutoff_index]\n",
    "        x = mdates.date2num(dates)\n",
    "        for country in countries_list:\n",
    "            z0 = np.polyfit(x, yvals[dictionary.get(country)], degree)\n",
    "            p0 = np.poly1d(z0)\n",
    "            ax.plot(dates_, p0(x[:cutoff_index]),color = trendline_colour_dictionary.get(country))\n",
    "    ##### add trendlines #####\n",
    "    \n",
    "    ##### setup the axis ##### \n",
    "    datemin,datemax = np.datetime64(dates[0], 'D'),np.datetime64(dates[-1], 'D')\n",
    "    ax.set_xlim(datemin, datemax)\n",
    "    ax.legend(loc='best')\n",
    "    ##### setup the axis #####\n",
    "    \n",
    "    ##### output #####\n",
    "#     fig.savefig('plots/' + str(type_of_plot) + str(cases_or_deaths) + str(countries_list) + 'timeshift='+str(timeshift)+'divide_by_population='+str(divideBy_population)+'.png',dpi=100)\n",
    "    plt.show()\n",
    "    ##### output #####\n",
    "    \n",
    "    \n",
    "    fig.clf() # a precautionary cleanup\n",
    "    \n"
   ]
  },
  {
   "cell_type": "code",
   "execution_count": 180,
   "metadata": {},
   "outputs": [
    {
     "name": "stderr",
     "output_type": "stream",
     "text": [
      "C:\\Users\\Jordan\\Anaconda3\\lib\\site-packages\\ipykernel_launcher.py:139: RankWarning:\n",
      "\n",
      "Polyfit may be poorly conditioned\n",
      "\n",
      "C:\\Users\\Jordan\\Anaconda3\\lib\\site-packages\\ipykernel_launcher.py:139: RankWarning:\n",
      "\n",
      "Polyfit may be poorly conditioned\n",
      "\n"
     ]
    },
    {
     "data": {
      "application/vnd.plotly.v1+json": {
       "config": {
        "plotlyServerURL": "https://plot.ly"
       },
       "data": [
        {
         "marker": {
          "color": "limegreen",
          "size": 10
         },
         "name": "Brazil",
         "type": "scatter",
         "x": [
          "2020-03-10T00:00:00",
          "2020-03-11T00:00:00",
          "2020-03-12T00:00:00",
          "2020-03-13T00:00:00",
          "2020-03-14T00:00:00",
          "2020-03-15T00:00:00",
          "2020-03-16T00:00:00",
          "2020-03-17T00:00:00",
          "2020-03-18T00:00:00",
          "2020-03-19T00:00:00",
          "2020-03-20T00:00:00",
          "2020-03-21T00:00:00",
          "2020-03-22T00:00:00",
          "2020-03-23T00:00:00",
          "2020-03-24T00:00:00",
          "2020-03-25T00:00:00",
          "2020-03-26T00:00:00",
          "2020-03-27T00:00:00",
          "2020-03-28T00:00:00",
          "2020-03-29T00:00:00",
          "2020-03-30T00:00:00",
          "2020-03-31T00:00:00",
          "2020-04-01T00:00:00",
          "2020-04-02T00:00:00",
          "2020-04-03T00:00:00",
          "2020-04-04T00:00:00",
          "2020-04-05T00:00:00",
          "2020-04-06T00:00:00"
         ],
         "y": [
          9,
          18,
          25,
          74,
          0,
          49,
          34,
          112,
          183,
          111,
          330,
          208,
          368,
          378,
          323,
          307,
          431,
          432,
          487,
          352,
          374,
          1087,
          1163,
          1164,
          1150,
          1166,
          894,
          929
         ]
        },
        {
         "marker": {
          "color": "cornflowerblue",
          "size": 10
         },
         "name": "Australia",
         "type": "scatter",
         "x": [
          "2020-03-10T00:00:00",
          "2020-03-11T00:00:00",
          "2020-03-12T00:00:00",
          "2020-03-13T00:00:00",
          "2020-03-14T00:00:00",
          "2020-03-15T00:00:00",
          "2020-03-16T00:00:00",
          "2020-03-17T00:00:00",
          "2020-03-18T00:00:00",
          "2020-03-19T00:00:00",
          "2020-03-20T00:00:00",
          "2020-03-21T00:00:00",
          "2020-03-22T00:00:00",
          "2020-03-23T00:00:00",
          "2020-03-24T00:00:00",
          "2020-03-25T00:00:00",
          "2020-03-26T00:00:00",
          "2020-03-27T00:00:00",
          "2020-03-28T00:00:00",
          "2020-03-29T00:00:00",
          "2020-03-30T00:00:00",
          "2020-03-31T00:00:00",
          "2020-04-01T00:00:00",
          "2020-04-02T00:00:00",
          "2020-04-03T00:00:00",
          "2020-04-04T00:00:00",
          "2020-04-05T00:00:00",
          "2020-04-06T00:00:00"
         ],
         "y": [
          20,
          16,
          28,
          42,
          50,
          50,
          78,
          77,
          113,
          142,
          167,
          196,
          281,
          364,
          430,
          285,
          361,
          374,
          458,
          528,
          197,
          303,
          285,
          266,
          140,
          96,
          200,
          145
         ]
        },
        {
         "marker": {
          "color": "green",
          "size": 10
         },
         "name": "Brazil_Trendline",
         "showlegend": false,
         "type": "scatter",
         "x": [
          "2020-03-10T00:00:00",
          "2020-03-11T00:00:00",
          "2020-03-12T00:00:00",
          "2020-03-13T00:00:00",
          "2020-03-14T00:00:00",
          "2020-03-15T00:00:00",
          "2020-03-16T00:00:00",
          "2020-03-17T00:00:00",
          "2020-03-18T00:00:00",
          "2020-03-19T00:00:00",
          "2020-03-20T00:00:00",
          "2020-03-21T00:00:00",
          "2020-03-22T00:00:00",
          "2020-03-23T00:00:00",
          "2020-03-24T00:00:00",
          "2020-03-25T00:00:00",
          "2020-03-26T00:00:00",
          "2020-03-27T00:00:00",
          "2020-03-28T00:00:00",
          "2020-03-29T00:00:00",
          "2020-03-30T00:00:00",
          "2020-03-31T00:00:00",
          "2020-04-01T00:00:00",
          "2020-04-02T00:00:00",
          "2020-04-03T00:00:00",
          "2020-04-04T00:00:00",
          "2020-04-05T00:00:00"
         ],
         "y": [
          53.890625,
          36.44140625,
          26.78515625,
          24.453125,
          29.0546875,
          40.2109375,
          57.54296875,
          80.60546875,
          109.046875,
          142.4296875,
          180.36328125,
          222.48046875,
          268.3828125,
          317.671875,
          369.89453125,
          424.6953125,
          481.76171875,
          540.5546875,
          600.7890625,
          661.96875,
          723.78515625,
          785.796875,
          847.6015625,
          908.83203125,
          969.0703125,
          1027.91015625,
          1084.96875
         ]
        },
        {
         "marker": {
          "color": "blue",
          "size": 10
         },
         "name": "Australia_Trendline",
         "showlegend": false,
         "type": "scatter",
         "x": [
          "2020-03-10T00:00:00",
          "2020-03-11T00:00:00",
          "2020-03-12T00:00:00",
          "2020-03-13T00:00:00",
          "2020-03-14T00:00:00",
          "2020-03-15T00:00:00",
          "2020-03-16T00:00:00",
          "2020-03-17T00:00:00",
          "2020-03-18T00:00:00",
          "2020-03-19T00:00:00",
          "2020-03-20T00:00:00",
          "2020-03-21T00:00:00",
          "2020-03-22T00:00:00",
          "2020-03-23T00:00:00",
          "2020-03-24T00:00:00",
          "2020-03-25T00:00:00",
          "2020-03-26T00:00:00",
          "2020-03-27T00:00:00",
          "2020-03-28T00:00:00",
          "2020-03-29T00:00:00",
          "2020-03-30T00:00:00",
          "2020-03-31T00:00:00",
          "2020-04-01T00:00:00",
          "2020-04-02T00:00:00",
          "2020-04-03T00:00:00",
          "2020-04-04T00:00:00",
          "2020-04-05T00:00:00"
         ],
         "y": [
          5.8359375,
          7.515625,
          15.3203125,
          28.25,
          45.78125,
          67.0859375,
          91.375,
          118.25,
          146.6875,
          176.0546875,
          205.7109375,
          234.90625,
          262.828125,
          288.796875,
          312.2109375,
          332.3046875,
          348.265625,
          359.453125,
          365.1015625,
          364.5625,
          357.0703125,
          341.9296875,
          318.4453125,
          285.859375,
          243.4765625,
          190.5546875,
          126.3671875
         ]
        }
       ],
       "layout": {
        "annotations": [
         {
          "arrowhead": 7,
          "ax": -80,
          "ay": -40,
          "showarrow": true,
          "text": "BBQ",
          "x": "2020-03-28T00:00:00",
          "xref": "x",
          "y": 487,
          "yref": "y"
         }
        ],
        "showlegend": true,
        "template": {
         "data": {
          "bar": [
           {
            "error_x": {
             "color": "#2a3f5f"
            },
            "error_y": {
             "color": "#2a3f5f"
            },
            "marker": {
             "line": {
              "color": "#E5ECF6",
              "width": 0.5
             }
            },
            "type": "bar"
           }
          ],
          "barpolar": [
           {
            "marker": {
             "line": {
              "color": "#E5ECF6",
              "width": 0.5
             }
            },
            "type": "barpolar"
           }
          ],
          "carpet": [
           {
            "aaxis": {
             "endlinecolor": "#2a3f5f",
             "gridcolor": "white",
             "linecolor": "white",
             "minorgridcolor": "white",
             "startlinecolor": "#2a3f5f"
            },
            "baxis": {
             "endlinecolor": "#2a3f5f",
             "gridcolor": "white",
             "linecolor": "white",
             "minorgridcolor": "white",
             "startlinecolor": "#2a3f5f"
            },
            "type": "carpet"
           }
          ],
          "choropleth": [
           {
            "colorbar": {
             "outlinewidth": 0,
             "ticks": ""
            },
            "type": "choropleth"
           }
          ],
          "contour": [
           {
            "colorbar": {
             "outlinewidth": 0,
             "ticks": ""
            },
            "colorscale": [
             [
              0,
              "#0d0887"
             ],
             [
              0.1111111111111111,
              "#46039f"
             ],
             [
              0.2222222222222222,
              "#7201a8"
             ],
             [
              0.3333333333333333,
              "#9c179e"
             ],
             [
              0.4444444444444444,
              "#bd3786"
             ],
             [
              0.5555555555555556,
              "#d8576b"
             ],
             [
              0.6666666666666666,
              "#ed7953"
             ],
             [
              0.7777777777777778,
              "#fb9f3a"
             ],
             [
              0.8888888888888888,
              "#fdca26"
             ],
             [
              1,
              "#f0f921"
             ]
            ],
            "type": "contour"
           }
          ],
          "contourcarpet": [
           {
            "colorbar": {
             "outlinewidth": 0,
             "ticks": ""
            },
            "type": "contourcarpet"
           }
          ],
          "heatmap": [
           {
            "colorbar": {
             "outlinewidth": 0,
             "ticks": ""
            },
            "colorscale": [
             [
              0,
              "#0d0887"
             ],
             [
              0.1111111111111111,
              "#46039f"
             ],
             [
              0.2222222222222222,
              "#7201a8"
             ],
             [
              0.3333333333333333,
              "#9c179e"
             ],
             [
              0.4444444444444444,
              "#bd3786"
             ],
             [
              0.5555555555555556,
              "#d8576b"
             ],
             [
              0.6666666666666666,
              "#ed7953"
             ],
             [
              0.7777777777777778,
              "#fb9f3a"
             ],
             [
              0.8888888888888888,
              "#fdca26"
             ],
             [
              1,
              "#f0f921"
             ]
            ],
            "type": "heatmap"
           }
          ],
          "heatmapgl": [
           {
            "colorbar": {
             "outlinewidth": 0,
             "ticks": ""
            },
            "colorscale": [
             [
              0,
              "#0d0887"
             ],
             [
              0.1111111111111111,
              "#46039f"
             ],
             [
              0.2222222222222222,
              "#7201a8"
             ],
             [
              0.3333333333333333,
              "#9c179e"
             ],
             [
              0.4444444444444444,
              "#bd3786"
             ],
             [
              0.5555555555555556,
              "#d8576b"
             ],
             [
              0.6666666666666666,
              "#ed7953"
             ],
             [
              0.7777777777777778,
              "#fb9f3a"
             ],
             [
              0.8888888888888888,
              "#fdca26"
             ],
             [
              1,
              "#f0f921"
             ]
            ],
            "type": "heatmapgl"
           }
          ],
          "histogram": [
           {
            "marker": {
             "colorbar": {
              "outlinewidth": 0,
              "ticks": ""
             }
            },
            "type": "histogram"
           }
          ],
          "histogram2d": [
           {
            "colorbar": {
             "outlinewidth": 0,
             "ticks": ""
            },
            "colorscale": [
             [
              0,
              "#0d0887"
             ],
             [
              0.1111111111111111,
              "#46039f"
             ],
             [
              0.2222222222222222,
              "#7201a8"
             ],
             [
              0.3333333333333333,
              "#9c179e"
             ],
             [
              0.4444444444444444,
              "#bd3786"
             ],
             [
              0.5555555555555556,
              "#d8576b"
             ],
             [
              0.6666666666666666,
              "#ed7953"
             ],
             [
              0.7777777777777778,
              "#fb9f3a"
             ],
             [
              0.8888888888888888,
              "#fdca26"
             ],
             [
              1,
              "#f0f921"
             ]
            ],
            "type": "histogram2d"
           }
          ],
          "histogram2dcontour": [
           {
            "colorbar": {
             "outlinewidth": 0,
             "ticks": ""
            },
            "colorscale": [
             [
              0,
              "#0d0887"
             ],
             [
              0.1111111111111111,
              "#46039f"
             ],
             [
              0.2222222222222222,
              "#7201a8"
             ],
             [
              0.3333333333333333,
              "#9c179e"
             ],
             [
              0.4444444444444444,
              "#bd3786"
             ],
             [
              0.5555555555555556,
              "#d8576b"
             ],
             [
              0.6666666666666666,
              "#ed7953"
             ],
             [
              0.7777777777777778,
              "#fb9f3a"
             ],
             [
              0.8888888888888888,
              "#fdca26"
             ],
             [
              1,
              "#f0f921"
             ]
            ],
            "type": "histogram2dcontour"
           }
          ],
          "mesh3d": [
           {
            "colorbar": {
             "outlinewidth": 0,
             "ticks": ""
            },
            "type": "mesh3d"
           }
          ],
          "parcoords": [
           {
            "line": {
             "colorbar": {
              "outlinewidth": 0,
              "ticks": ""
             }
            },
            "type": "parcoords"
           }
          ],
          "pie": [
           {
            "automargin": true,
            "type": "pie"
           }
          ],
          "scatter": [
           {
            "marker": {
             "colorbar": {
              "outlinewidth": 0,
              "ticks": ""
             }
            },
            "type": "scatter"
           }
          ],
          "scatter3d": [
           {
            "line": {
             "colorbar": {
              "outlinewidth": 0,
              "ticks": ""
             }
            },
            "marker": {
             "colorbar": {
              "outlinewidth": 0,
              "ticks": ""
             }
            },
            "type": "scatter3d"
           }
          ],
          "scattercarpet": [
           {
            "marker": {
             "colorbar": {
              "outlinewidth": 0,
              "ticks": ""
             }
            },
            "type": "scattercarpet"
           }
          ],
          "scattergeo": [
           {
            "marker": {
             "colorbar": {
              "outlinewidth": 0,
              "ticks": ""
             }
            },
            "type": "scattergeo"
           }
          ],
          "scattergl": [
           {
            "marker": {
             "colorbar": {
              "outlinewidth": 0,
              "ticks": ""
             }
            },
            "type": "scattergl"
           }
          ],
          "scattermapbox": [
           {
            "marker": {
             "colorbar": {
              "outlinewidth": 0,
              "ticks": ""
             }
            },
            "type": "scattermapbox"
           }
          ],
          "scatterpolar": [
           {
            "marker": {
             "colorbar": {
              "outlinewidth": 0,
              "ticks": ""
             }
            },
            "type": "scatterpolar"
           }
          ],
          "scatterpolargl": [
           {
            "marker": {
             "colorbar": {
              "outlinewidth": 0,
              "ticks": ""
             }
            },
            "type": "scatterpolargl"
           }
          ],
          "scatterternary": [
           {
            "marker": {
             "colorbar": {
              "outlinewidth": 0,
              "ticks": ""
             }
            },
            "type": "scatterternary"
           }
          ],
          "surface": [
           {
            "colorbar": {
             "outlinewidth": 0,
             "ticks": ""
            },
            "colorscale": [
             [
              0,
              "#0d0887"
             ],
             [
              0.1111111111111111,
              "#46039f"
             ],
             [
              0.2222222222222222,
              "#7201a8"
             ],
             [
              0.3333333333333333,
              "#9c179e"
             ],
             [
              0.4444444444444444,
              "#bd3786"
             ],
             [
              0.5555555555555556,
              "#d8576b"
             ],
             [
              0.6666666666666666,
              "#ed7953"
             ],
             [
              0.7777777777777778,
              "#fb9f3a"
             ],
             [
              0.8888888888888888,
              "#fdca26"
             ],
             [
              1,
              "#f0f921"
             ]
            ],
            "type": "surface"
           }
          ],
          "table": [
           {
            "cells": {
             "fill": {
              "color": "#EBF0F8"
             },
             "line": {
              "color": "white"
             }
            },
            "header": {
             "fill": {
              "color": "#C8D4E3"
             },
             "line": {
              "color": "white"
             }
            },
            "type": "table"
           }
          ]
         },
         "layout": {
          "annotationdefaults": {
           "arrowcolor": "#2a3f5f",
           "arrowhead": 0,
           "arrowwidth": 1
          },
          "coloraxis": {
           "colorbar": {
            "outlinewidth": 0,
            "ticks": ""
           }
          },
          "colorscale": {
           "diverging": [
            [
             0,
             "#8e0152"
            ],
            [
             0.1,
             "#c51b7d"
            ],
            [
             0.2,
             "#de77ae"
            ],
            [
             0.3,
             "#f1b6da"
            ],
            [
             0.4,
             "#fde0ef"
            ],
            [
             0.5,
             "#f7f7f7"
            ],
            [
             0.6,
             "#e6f5d0"
            ],
            [
             0.7,
             "#b8e186"
            ],
            [
             0.8,
             "#7fbc41"
            ],
            [
             0.9,
             "#4d9221"
            ],
            [
             1,
             "#276419"
            ]
           ],
           "sequential": [
            [
             0,
             "#0d0887"
            ],
            [
             0.1111111111111111,
             "#46039f"
            ],
            [
             0.2222222222222222,
             "#7201a8"
            ],
            [
             0.3333333333333333,
             "#9c179e"
            ],
            [
             0.4444444444444444,
             "#bd3786"
            ],
            [
             0.5555555555555556,
             "#d8576b"
            ],
            [
             0.6666666666666666,
             "#ed7953"
            ],
            [
             0.7777777777777778,
             "#fb9f3a"
            ],
            [
             0.8888888888888888,
             "#fdca26"
            ],
            [
             1,
             "#f0f921"
            ]
           ],
           "sequentialminus": [
            [
             0,
             "#0d0887"
            ],
            [
             0.1111111111111111,
             "#46039f"
            ],
            [
             0.2222222222222222,
             "#7201a8"
            ],
            [
             0.3333333333333333,
             "#9c179e"
            ],
            [
             0.4444444444444444,
             "#bd3786"
            ],
            [
             0.5555555555555556,
             "#d8576b"
            ],
            [
             0.6666666666666666,
             "#ed7953"
            ],
            [
             0.7777777777777778,
             "#fb9f3a"
            ],
            [
             0.8888888888888888,
             "#fdca26"
            ],
            [
             1,
             "#f0f921"
            ]
           ]
          },
          "colorway": [
           "#636efa",
           "#EF553B",
           "#00cc96",
           "#ab63fa",
           "#FFA15A",
           "#19d3f3",
           "#FF6692",
           "#B6E880",
           "#FF97FF",
           "#FECB52"
          ],
          "font": {
           "color": "#2a3f5f"
          },
          "geo": {
           "bgcolor": "white",
           "lakecolor": "white",
           "landcolor": "#E5ECF6",
           "showlakes": true,
           "showland": true,
           "subunitcolor": "white"
          },
          "hoverlabel": {
           "align": "left"
          },
          "hovermode": "closest",
          "mapbox": {
           "style": "light"
          },
          "paper_bgcolor": "white",
          "plot_bgcolor": "#E5ECF6",
          "polar": {
           "angularaxis": {
            "gridcolor": "white",
            "linecolor": "white",
            "ticks": ""
           },
           "bgcolor": "#E5ECF6",
           "radialaxis": {
            "gridcolor": "white",
            "linecolor": "white",
            "ticks": ""
           }
          },
          "scene": {
           "xaxis": {
            "backgroundcolor": "#E5ECF6",
            "gridcolor": "white",
            "gridwidth": 2,
            "linecolor": "white",
            "showbackground": true,
            "ticks": "",
            "zerolinecolor": "white"
           },
           "yaxis": {
            "backgroundcolor": "#E5ECF6",
            "gridcolor": "white",
            "gridwidth": 2,
            "linecolor": "white",
            "showbackground": true,
            "ticks": "",
            "zerolinecolor": "white"
           },
           "zaxis": {
            "backgroundcolor": "#E5ECF6",
            "gridcolor": "white",
            "gridwidth": 2,
            "linecolor": "white",
            "showbackground": true,
            "ticks": "",
            "zerolinecolor": "white"
           }
          },
          "shapedefaults": {
           "line": {
            "color": "#2a3f5f"
           }
          },
          "ternary": {
           "aaxis": {
            "gridcolor": "white",
            "linecolor": "white",
            "ticks": ""
           },
           "baxis": {
            "gridcolor": "white",
            "linecolor": "white",
            "ticks": ""
           },
           "bgcolor": "#E5ECF6",
           "caxis": {
            "gridcolor": "white",
            "linecolor": "white",
            "ticks": ""
           }
          },
          "title": {
           "x": 0.05
          },
          "xaxis": {
           "automargin": true,
           "gridcolor": "white",
           "linecolor": "white",
           "ticks": "",
           "title": {
            "standoff": 15
           },
           "zerolinecolor": "white",
           "zerolinewidth": 2
          },
          "yaxis": {
           "automargin": true,
           "gridcolor": "white",
           "linecolor": "white",
           "ticks": "",
           "title": {
            "standoff": 15
           },
           "zerolinecolor": "white",
           "zerolinewidth": 2
          }
         }
        },
        "title": {
         "text": "new cases"
        },
        "xaxis": {
         "constrain": "domain",
         "range": [
          "2020-03-10T00:00:00",
          "2020-04-06T00:00:00"
         ]
        },
        "yaxis": {
         "title": {
          "text": ""
         }
        }
       }
      },
      "text/html": [
       "<div>\n",
       "        \n",
       "        \n",
       "            <div id=\"c170538a-7055-4419-9d11-5b2b62a03f01\" class=\"plotly-graph-div\" style=\"height:525px; width:100%;\"></div>\n",
       "            <script type=\"text/javascript\">\n",
       "                require([\"plotly\"], function(Plotly) {\n",
       "                    window.PLOTLYENV=window.PLOTLYENV || {};\n",
       "                    \n",
       "                if (document.getElementById(\"c170538a-7055-4419-9d11-5b2b62a03f01\")) {\n",
       "                    Plotly.newPlot(\n",
       "                        'c170538a-7055-4419-9d11-5b2b62a03f01',\n",
       "                        [{\"marker\": {\"color\": \"limegreen\", \"size\": 10}, \"name\": \"Brazil\", \"type\": \"scatter\", \"x\": [\"2020-03-10T00:00:00\", \"2020-03-11T00:00:00\", \"2020-03-12T00:00:00\", \"2020-03-13T00:00:00\", \"2020-03-14T00:00:00\", \"2020-03-15T00:00:00\", \"2020-03-16T00:00:00\", \"2020-03-17T00:00:00\", \"2020-03-18T00:00:00\", \"2020-03-19T00:00:00\", \"2020-03-20T00:00:00\", \"2020-03-21T00:00:00\", \"2020-03-22T00:00:00\", \"2020-03-23T00:00:00\", \"2020-03-24T00:00:00\", \"2020-03-25T00:00:00\", \"2020-03-26T00:00:00\", \"2020-03-27T00:00:00\", \"2020-03-28T00:00:00\", \"2020-03-29T00:00:00\", \"2020-03-30T00:00:00\", \"2020-03-31T00:00:00\", \"2020-04-01T00:00:00\", \"2020-04-02T00:00:00\", \"2020-04-03T00:00:00\", \"2020-04-04T00:00:00\", \"2020-04-05T00:00:00\", \"2020-04-06T00:00:00\"], \"y\": [9.0, 18.0, 25.0, 74.0, 0.0, 49.0, 34.0, 112.0, 183.0, 111.0, 330.0, 208.0, 368.0, 378.0, 323.0, 307.0, 431.0, 432.0, 487.0, 352.0, 374.0, 1087.0, 1163.0, 1164.0, 1150.0, 1166.0, 894.0, 929.0]}, {\"marker\": {\"color\": \"cornflowerblue\", \"size\": 10}, \"name\": \"Australia\", \"type\": \"scatter\", \"x\": [\"2020-03-10T00:00:00\", \"2020-03-11T00:00:00\", \"2020-03-12T00:00:00\", \"2020-03-13T00:00:00\", \"2020-03-14T00:00:00\", \"2020-03-15T00:00:00\", \"2020-03-16T00:00:00\", \"2020-03-17T00:00:00\", \"2020-03-18T00:00:00\", \"2020-03-19T00:00:00\", \"2020-03-20T00:00:00\", \"2020-03-21T00:00:00\", \"2020-03-22T00:00:00\", \"2020-03-23T00:00:00\", \"2020-03-24T00:00:00\", \"2020-03-25T00:00:00\", \"2020-03-26T00:00:00\", \"2020-03-27T00:00:00\", \"2020-03-28T00:00:00\", \"2020-03-29T00:00:00\", \"2020-03-30T00:00:00\", \"2020-03-31T00:00:00\", \"2020-04-01T00:00:00\", \"2020-04-02T00:00:00\", \"2020-04-03T00:00:00\", \"2020-04-04T00:00:00\", \"2020-04-05T00:00:00\", \"2020-04-06T00:00:00\"], \"y\": [20.0, 16.0, 28.0, 42.0, 50.0, 50.0, 78.0, 77.0, 113.0, 142.0, 167.0, 196.0, 281.0, 364.0, 430.0, 285.0, 361.0, 374.0, 458.0, 528.0, 197.0, 303.0, 285.0, 266.0, 140.0, 96.0, 200.0, 145.0]}, {\"marker\": {\"color\": \"green\", \"size\": 10}, \"name\": \"Brazil_Trendline\", \"showlegend\": false, \"type\": \"scatter\", \"x\": [\"2020-03-10T00:00:00\", \"2020-03-11T00:00:00\", \"2020-03-12T00:00:00\", \"2020-03-13T00:00:00\", \"2020-03-14T00:00:00\", \"2020-03-15T00:00:00\", \"2020-03-16T00:00:00\", \"2020-03-17T00:00:00\", \"2020-03-18T00:00:00\", \"2020-03-19T00:00:00\", \"2020-03-20T00:00:00\", \"2020-03-21T00:00:00\", \"2020-03-22T00:00:00\", \"2020-03-23T00:00:00\", \"2020-03-24T00:00:00\", \"2020-03-25T00:00:00\", \"2020-03-26T00:00:00\", \"2020-03-27T00:00:00\", \"2020-03-28T00:00:00\", \"2020-03-29T00:00:00\", \"2020-03-30T00:00:00\", \"2020-03-31T00:00:00\", \"2020-04-01T00:00:00\", \"2020-04-02T00:00:00\", \"2020-04-03T00:00:00\", \"2020-04-04T00:00:00\", \"2020-04-05T00:00:00\"], \"y\": [53.890625, 36.44140625, 26.78515625, 24.453125, 29.0546875, 40.2109375, 57.54296875, 80.60546875, 109.046875, 142.4296875, 180.36328125, 222.48046875, 268.3828125, 317.671875, 369.89453125, 424.6953125, 481.76171875, 540.5546875, 600.7890625, 661.96875, 723.78515625, 785.796875, 847.6015625, 908.83203125, 969.0703125, 1027.91015625, 1084.96875]}, {\"marker\": {\"color\": \"blue\", \"size\": 10}, \"name\": \"Australia_Trendline\", \"showlegend\": false, \"type\": \"scatter\", \"x\": [\"2020-03-10T00:00:00\", \"2020-03-11T00:00:00\", \"2020-03-12T00:00:00\", \"2020-03-13T00:00:00\", \"2020-03-14T00:00:00\", \"2020-03-15T00:00:00\", \"2020-03-16T00:00:00\", \"2020-03-17T00:00:00\", \"2020-03-18T00:00:00\", \"2020-03-19T00:00:00\", \"2020-03-20T00:00:00\", \"2020-03-21T00:00:00\", \"2020-03-22T00:00:00\", \"2020-03-23T00:00:00\", \"2020-03-24T00:00:00\", \"2020-03-25T00:00:00\", \"2020-03-26T00:00:00\", \"2020-03-27T00:00:00\", \"2020-03-28T00:00:00\", \"2020-03-29T00:00:00\", \"2020-03-30T00:00:00\", \"2020-03-31T00:00:00\", \"2020-04-01T00:00:00\", \"2020-04-02T00:00:00\", \"2020-04-03T00:00:00\", \"2020-04-04T00:00:00\", \"2020-04-05T00:00:00\"], \"y\": [5.8359375, 7.515625, 15.3203125, 28.25, 45.78125, 67.0859375, 91.375, 118.25, 146.6875, 176.0546875, 205.7109375, 234.90625, 262.828125, 288.796875, 312.2109375, 332.3046875, 348.265625, 359.453125, 365.1015625, 364.5625, 357.0703125, 341.9296875, 318.4453125, 285.859375, 243.4765625, 190.5546875, 126.3671875]}],\n",
       "                        {\"annotations\": [{\"arrowhead\": 7, \"ax\": -80, \"ay\": -40, \"showarrow\": true, \"text\": \"BBQ\", \"x\": \"2020-03-28T00:00:00\", \"xref\": \"x\", \"y\": 487.0, \"yref\": \"y\"}], \"showlegend\": true, \"template\": {\"data\": {\"bar\": [{\"error_x\": {\"color\": \"#2a3f5f\"}, \"error_y\": {\"color\": \"#2a3f5f\"}, \"marker\": {\"line\": {\"color\": \"#E5ECF6\", \"width\": 0.5}}, \"type\": \"bar\"}], \"barpolar\": [{\"marker\": {\"line\": {\"color\": \"#E5ECF6\", \"width\": 0.5}}, \"type\": \"barpolar\"}], \"carpet\": [{\"aaxis\": {\"endlinecolor\": \"#2a3f5f\", \"gridcolor\": \"white\", \"linecolor\": \"white\", \"minorgridcolor\": \"white\", \"startlinecolor\": \"#2a3f5f\"}, \"baxis\": {\"endlinecolor\": \"#2a3f5f\", \"gridcolor\": \"white\", \"linecolor\": \"white\", \"minorgridcolor\": \"white\", \"startlinecolor\": \"#2a3f5f\"}, \"type\": \"carpet\"}], \"choropleth\": [{\"colorbar\": {\"outlinewidth\": 0, \"ticks\": \"\"}, \"type\": \"choropleth\"}], \"contour\": [{\"colorbar\": {\"outlinewidth\": 0, \"ticks\": \"\"}, \"colorscale\": [[0.0, \"#0d0887\"], [0.1111111111111111, \"#46039f\"], [0.2222222222222222, \"#7201a8\"], [0.3333333333333333, \"#9c179e\"], [0.4444444444444444, \"#bd3786\"], [0.5555555555555556, \"#d8576b\"], [0.6666666666666666, \"#ed7953\"], [0.7777777777777778, \"#fb9f3a\"], [0.8888888888888888, \"#fdca26\"], [1.0, \"#f0f921\"]], \"type\": \"contour\"}], \"contourcarpet\": [{\"colorbar\": {\"outlinewidth\": 0, \"ticks\": \"\"}, \"type\": \"contourcarpet\"}], \"heatmap\": [{\"colorbar\": {\"outlinewidth\": 0, \"ticks\": \"\"}, \"colorscale\": [[0.0, \"#0d0887\"], [0.1111111111111111, \"#46039f\"], [0.2222222222222222, \"#7201a8\"], [0.3333333333333333, \"#9c179e\"], [0.4444444444444444, \"#bd3786\"], [0.5555555555555556, \"#d8576b\"], [0.6666666666666666, \"#ed7953\"], [0.7777777777777778, \"#fb9f3a\"], [0.8888888888888888, \"#fdca26\"], [1.0, \"#f0f921\"]], \"type\": \"heatmap\"}], \"heatmapgl\": [{\"colorbar\": {\"outlinewidth\": 0, \"ticks\": \"\"}, \"colorscale\": [[0.0, \"#0d0887\"], [0.1111111111111111, \"#46039f\"], [0.2222222222222222, \"#7201a8\"], [0.3333333333333333, \"#9c179e\"], [0.4444444444444444, \"#bd3786\"], [0.5555555555555556, \"#d8576b\"], [0.6666666666666666, \"#ed7953\"], [0.7777777777777778, \"#fb9f3a\"], [0.8888888888888888, \"#fdca26\"], [1.0, \"#f0f921\"]], \"type\": \"heatmapgl\"}], \"histogram\": [{\"marker\": {\"colorbar\": {\"outlinewidth\": 0, \"ticks\": \"\"}}, \"type\": \"histogram\"}], \"histogram2d\": [{\"colorbar\": {\"outlinewidth\": 0, \"ticks\": \"\"}, \"colorscale\": [[0.0, \"#0d0887\"], [0.1111111111111111, \"#46039f\"], [0.2222222222222222, \"#7201a8\"], [0.3333333333333333, \"#9c179e\"], [0.4444444444444444, \"#bd3786\"], [0.5555555555555556, \"#d8576b\"], [0.6666666666666666, \"#ed7953\"], [0.7777777777777778, \"#fb9f3a\"], [0.8888888888888888, \"#fdca26\"], [1.0, \"#f0f921\"]], \"type\": \"histogram2d\"}], \"histogram2dcontour\": [{\"colorbar\": {\"outlinewidth\": 0, \"ticks\": \"\"}, \"colorscale\": [[0.0, \"#0d0887\"], [0.1111111111111111, \"#46039f\"], [0.2222222222222222, \"#7201a8\"], [0.3333333333333333, \"#9c179e\"], [0.4444444444444444, \"#bd3786\"], [0.5555555555555556, \"#d8576b\"], [0.6666666666666666, \"#ed7953\"], [0.7777777777777778, \"#fb9f3a\"], [0.8888888888888888, \"#fdca26\"], [1.0, \"#f0f921\"]], \"type\": \"histogram2dcontour\"}], \"mesh3d\": [{\"colorbar\": {\"outlinewidth\": 0, \"ticks\": \"\"}, \"type\": \"mesh3d\"}], \"parcoords\": [{\"line\": {\"colorbar\": {\"outlinewidth\": 0, \"ticks\": \"\"}}, \"type\": \"parcoords\"}], \"pie\": [{\"automargin\": true, \"type\": \"pie\"}], \"scatter\": [{\"marker\": {\"colorbar\": {\"outlinewidth\": 0, \"ticks\": \"\"}}, \"type\": \"scatter\"}], \"scatter3d\": [{\"line\": {\"colorbar\": {\"outlinewidth\": 0, \"ticks\": \"\"}}, \"marker\": {\"colorbar\": {\"outlinewidth\": 0, \"ticks\": \"\"}}, \"type\": \"scatter3d\"}], \"scattercarpet\": [{\"marker\": {\"colorbar\": {\"outlinewidth\": 0, \"ticks\": \"\"}}, \"type\": \"scattercarpet\"}], \"scattergeo\": [{\"marker\": {\"colorbar\": {\"outlinewidth\": 0, \"ticks\": \"\"}}, \"type\": \"scattergeo\"}], \"scattergl\": [{\"marker\": {\"colorbar\": {\"outlinewidth\": 0, \"ticks\": \"\"}}, \"type\": \"scattergl\"}], \"scattermapbox\": [{\"marker\": {\"colorbar\": {\"outlinewidth\": 0, \"ticks\": \"\"}}, \"type\": \"scattermapbox\"}], \"scatterpolar\": [{\"marker\": {\"colorbar\": {\"outlinewidth\": 0, \"ticks\": \"\"}}, \"type\": \"scatterpolar\"}], \"scatterpolargl\": [{\"marker\": {\"colorbar\": {\"outlinewidth\": 0, \"ticks\": \"\"}}, \"type\": \"scatterpolargl\"}], \"scatterternary\": [{\"marker\": {\"colorbar\": {\"outlinewidth\": 0, \"ticks\": \"\"}}, \"type\": \"scatterternary\"}], \"surface\": [{\"colorbar\": {\"outlinewidth\": 0, \"ticks\": \"\"}, \"colorscale\": [[0.0, \"#0d0887\"], [0.1111111111111111, \"#46039f\"], [0.2222222222222222, \"#7201a8\"], [0.3333333333333333, \"#9c179e\"], [0.4444444444444444, \"#bd3786\"], [0.5555555555555556, \"#d8576b\"], [0.6666666666666666, \"#ed7953\"], [0.7777777777777778, \"#fb9f3a\"], [0.8888888888888888, \"#fdca26\"], [1.0, \"#f0f921\"]], \"type\": \"surface\"}], \"table\": [{\"cells\": {\"fill\": {\"color\": \"#EBF0F8\"}, \"line\": {\"color\": \"white\"}}, \"header\": {\"fill\": {\"color\": \"#C8D4E3\"}, \"line\": {\"color\": \"white\"}}, \"type\": \"table\"}]}, \"layout\": {\"annotationdefaults\": {\"arrowcolor\": \"#2a3f5f\", \"arrowhead\": 0, \"arrowwidth\": 1}, \"coloraxis\": {\"colorbar\": {\"outlinewidth\": 0, \"ticks\": \"\"}}, \"colorscale\": {\"diverging\": [[0, \"#8e0152\"], [0.1, \"#c51b7d\"], [0.2, \"#de77ae\"], [0.3, \"#f1b6da\"], [0.4, \"#fde0ef\"], [0.5, \"#f7f7f7\"], [0.6, \"#e6f5d0\"], [0.7, \"#b8e186\"], [0.8, \"#7fbc41\"], [0.9, \"#4d9221\"], [1, \"#276419\"]], \"sequential\": [[0.0, \"#0d0887\"], [0.1111111111111111, \"#46039f\"], [0.2222222222222222, \"#7201a8\"], [0.3333333333333333, \"#9c179e\"], [0.4444444444444444, \"#bd3786\"], [0.5555555555555556, \"#d8576b\"], [0.6666666666666666, \"#ed7953\"], [0.7777777777777778, \"#fb9f3a\"], [0.8888888888888888, \"#fdca26\"], [1.0, \"#f0f921\"]], \"sequentialminus\": [[0.0, \"#0d0887\"], [0.1111111111111111, \"#46039f\"], [0.2222222222222222, \"#7201a8\"], [0.3333333333333333, \"#9c179e\"], [0.4444444444444444, \"#bd3786\"], [0.5555555555555556, \"#d8576b\"], [0.6666666666666666, \"#ed7953\"], [0.7777777777777778, \"#fb9f3a\"], [0.8888888888888888, \"#fdca26\"], [1.0, \"#f0f921\"]]}, \"colorway\": [\"#636efa\", \"#EF553B\", \"#00cc96\", \"#ab63fa\", \"#FFA15A\", \"#19d3f3\", \"#FF6692\", \"#B6E880\", \"#FF97FF\", \"#FECB52\"], \"font\": {\"color\": \"#2a3f5f\"}, \"geo\": {\"bgcolor\": \"white\", \"lakecolor\": \"white\", \"landcolor\": \"#E5ECF6\", \"showlakes\": true, \"showland\": true, \"subunitcolor\": \"white\"}, \"hoverlabel\": {\"align\": \"left\"}, \"hovermode\": \"closest\", \"mapbox\": {\"style\": \"light\"}, \"paper_bgcolor\": \"white\", \"plot_bgcolor\": \"#E5ECF6\", \"polar\": {\"angularaxis\": {\"gridcolor\": \"white\", \"linecolor\": \"white\", \"ticks\": \"\"}, \"bgcolor\": \"#E5ECF6\", \"radialaxis\": {\"gridcolor\": \"white\", \"linecolor\": \"white\", \"ticks\": \"\"}}, \"scene\": {\"xaxis\": {\"backgroundcolor\": \"#E5ECF6\", \"gridcolor\": \"white\", \"gridwidth\": 2, \"linecolor\": \"white\", \"showbackground\": true, \"ticks\": \"\", \"zerolinecolor\": \"white\"}, \"yaxis\": {\"backgroundcolor\": \"#E5ECF6\", \"gridcolor\": \"white\", \"gridwidth\": 2, \"linecolor\": \"white\", \"showbackground\": true, \"ticks\": \"\", \"zerolinecolor\": \"white\"}, \"zaxis\": {\"backgroundcolor\": \"#E5ECF6\", \"gridcolor\": \"white\", \"gridwidth\": 2, \"linecolor\": \"white\", \"showbackground\": true, \"ticks\": \"\", \"zerolinecolor\": \"white\"}}, \"shapedefaults\": {\"line\": {\"color\": \"#2a3f5f\"}}, \"ternary\": {\"aaxis\": {\"gridcolor\": \"white\", \"linecolor\": \"white\", \"ticks\": \"\"}, \"baxis\": {\"gridcolor\": \"white\", \"linecolor\": \"white\", \"ticks\": \"\"}, \"bgcolor\": \"#E5ECF6\", \"caxis\": {\"gridcolor\": \"white\", \"linecolor\": \"white\", \"ticks\": \"\"}}, \"title\": {\"x\": 0.05}, \"xaxis\": {\"automargin\": true, \"gridcolor\": \"white\", \"linecolor\": \"white\", \"ticks\": \"\", \"title\": {\"standoff\": 15}, \"zerolinecolor\": \"white\", \"zerolinewidth\": 2}, \"yaxis\": {\"automargin\": true, \"gridcolor\": \"white\", \"linecolor\": \"white\", \"ticks\": \"\", \"title\": {\"standoff\": 15}, \"zerolinecolor\": \"white\", \"zerolinewidth\": 2}}}, \"title\": {\"text\": \"new cases\"}, \"xaxis\": {\"constrain\": \"domain\", \"range\": [\"2020-03-10T00:00:00\", \"2020-04-06T00:00:00\"]}, \"yaxis\": {\"title\": {\"text\": \"\"}}},\n",
       "                        {\"responsive\": true}\n",
       "                    ).then(function(){\n",
       "                            \n",
       "var gd = document.getElementById('c170538a-7055-4419-9d11-5b2b62a03f01');\n",
       "var x = new MutationObserver(function (mutations, observer) {{\n",
       "        var display = window.getComputedStyle(gd).display;\n",
       "        if (!display || display === 'none') {{\n",
       "            console.log([gd, 'removed!']);\n",
       "            Plotly.purge(gd);\n",
       "            observer.disconnect();\n",
       "        }}\n",
       "}});\n",
       "\n",
       "// Listen for the removal of the full notebook cells\n",
       "var notebookContainer = gd.closest('#notebook-container');\n",
       "if (notebookContainer) {{\n",
       "    x.observe(notebookContainer, {childList: true});\n",
       "}}\n",
       "\n",
       "// Listen for the clearing of the current output cell\n",
       "var outputEl = gd.closest('.output');\n",
       "if (outputEl) {{\n",
       "    x.observe(outputEl, {childList: true});\n",
       "}}\n",
       "\n",
       "                        })\n",
       "                };\n",
       "                });\n",
       "            </script>\n",
       "        </div>"
      ]
     },
     "metadata": {},
     "output_type": "display_data"
    }
   ],
   "source": [
    "import matplotlib as lib\n",
    "import matplotlib.dates as mdates\n",
    "import matplotlib.cbook as cbook\n",
    "import matplotlib.style\n",
    "import plotly.graph_objects as go\n",
    "import warnings\n",
    "warnings.simplefilter('ignore',RuntimeWarning)\n",
    "# warnings.simplefilter('ignore',RankWarning)\n",
    "style = 'seaborn'\n",
    "list_inputs = ['cumulative','new','acceleration','exponential','fatality rate']\n",
    "\n",
    "\n",
    "\n",
    "\n",
    "\n",
    "def plot_with_annotation(type_of_plot,countries_list,cases_or_deaths,date_min_index=0,\n",
    "         annotation = None,date_max_index=-1,timeshift=None,title='auto',\n",
    "         trendline=False,divideBy_population=False,style=style):\n",
    "    '''Different types of plot are: cumulative, new, acceleration,exponential,fatality rate.  \n",
    "    timeshift is in days and always applies to UK'''\n",
    "    \n",
    "    ##### checks #####\n",
    "    assert(type(countries_list) == list)\n",
    "    assert(type_of_plot in list_inputs), 'type_of_plot = ' + str(type_of_plot) + 'is not in ' + list_inputs\n",
    "    if divideBy_population == True:\n",
    "        assert(type_of_plot != 'exponential' and type_of_plot != 'fatality rate'), 'doesnt make sense to divide by population for plot of: '+type_of_plot\n",
    "    for country in countries_list:\n",
    "        if type_of_plot == 'fatality rate': assert(country not in problomatic_countries), 'The country ' + str(country) + 'is problomatic'\n",
    "        if cases_or_deaths =='cases':\n",
    "            assert(country in dictionary_cases_index), str(country) + ' is not in ' + str(dictionary_cases_index)\n",
    "        elif cases_or_deaths == 'deaths':\n",
    "            assert(country in dictionary_deaths_index), str(country) + ' is not in ' + str(dictionary_deaths_index)\n",
    "    if type_of_plot == 'fatality rate': assert(cases_or_deaths == None), 'Fatality rate requires argument \"cases_or_deaths_\" = None, but currently inputed as: ' + str(cases_or_deaths)\n",
    "    ##### checks #####\n",
    "\n",
    "    ##### setup stuff #####\n",
    "    fig = go.Figure()\n",
    "    ##### setup stuff #####\n",
    "    \n",
    "    ###### title stuff #####\n",
    "    end_title = ''\n",
    "    if timeshift:\n",
    "        end_title += ' with UK shifted back by ' +str(timeshift) + 'days'\n",
    "    if divideBy_population == True:\n",
    "        end_title += ' divided by population' \n",
    "    str_cases_or_deaths = str(cases_or_deaths)\n",
    "    if cases_or_deaths == None: str_cases_or_deaths = ''\n",
    "    auto_title = str(type_of_plot)+' '+str_cases_or_deaths+end_title\n",
    "    if title == 'auto':\n",
    "        title=auto_title\n",
    "    ##### title stuff #####\n",
    "    \n",
    "    ##### axis stuff  #####\n",
    "    ylabel=''\n",
    "    if type_of_plot  == 'fatality rate':\n",
    "        ylabel='percentage deaths/cases'\n",
    "    elif type_of_plot == 'new':\n",
    "        if divide_by_population == True:\n",
    "            ylabel='percentage cases/population'\n",
    "    elif type_of_plot == 'exponential':\n",
    "        ylabel='Time Constant'\n",
    "    elif divideBy_population == True:\n",
    "        ylabel='percentage of population'\n",
    "    ###### axis stuff #####    \n",
    "    \n",
    "    ##### define dates and yvals #####\n",
    "    if cases_or_deaths == 'cases':\n",
    "        dates,yvals = dates_cases,yvals_cases\n",
    "    elif cases_or_deaths == 'deaths':\n",
    "        dates,yvals = dates_deaths,yvals_deaths\n",
    "    else:\n",
    "        dates,yvals = dates_deaths,yvals_fatality_rates\n",
    "        print('***yvalues used are of fatality rate***')\n",
    "    \n",
    "    if type_of_plot == 'new':\n",
    "        yvals = differentiate(yvals)\n",
    "    elif type_of_plot == 'acceleration':\n",
    "        yvals = differentiate(differentiate(yvals))\n",
    "    elif type_of_plot == 'exponential':\n",
    "        yvals = exponential(yvals)\n",
    "    ##### define dates and yvals ######\n",
    "        \n",
    "        \n",
    "    ##### timeshift function #####\n",
    "    if timeshift is not None:\n",
    "        assert(type(timeshift) == int), 'timeshift needs to be in integers of days, current timeshift is '+ str(timeshift) + ' and type: ' + str(type(timeshift))\n",
    "        altered_dates_uk = []\n",
    "        for date in dates:\n",
    "            altered_dates_uk.append(np.datetime64(date)-np.timedelta64(timeshift, 'D'))\n",
    "    ##### timeshift function #####\n",
    "    \n",
    "    ##### divide by population function #####\n",
    "    if divideBy_population == True: \n",
    "        yvals = 100*divide_by_population(yvals,cases_or_deaths)\n",
    "    ##### divide by population function #####\n",
    "    \n",
    "    ##### date range #####\n",
    "    dates,yvals = dates[date_min_index:date_max_index],[yvals[i][date_min_index:date_max_index] for i in range(np.shape(yvals)[0])] \n",
    "    ##### date range #####\n",
    "    \n",
    "    ##### plotting time #####\n",
    "    for country in countries_list:    \n",
    "        if cases_or_deaths == 'cases':\n",
    "            dictionary=dictionary_cases_index\n",
    "        elif cases_or_deaths =='deaths' or type_of_plot == 'fatality rate':\n",
    "            dictionary=dictionary_deaths_index\n",
    "            \n",
    "        if country =='UK' and timeshift is not None:\n",
    "            fig.add_trace(go.Scatter(\n",
    "                x=altered_dates_uk,\n",
    "                y=yvals[dictionary.get('UK')],\n",
    "                mode = 'lines',\n",
    "                name = ' Shifted UK', \n",
    "                marker = dict(\n",
    "                    size = 10,\n",
    "                    color = data_colour_dictionary.get(country)\n",
    "                )\n",
    "            ))    \n",
    "            \n",
    "        else:\n",
    "            fig.add_trace(go.Scatter(\n",
    "                x=dates,\n",
    "                y=yvals[dictionary.get(country)],\n",
    "                name = country, \n",
    "                marker = dict(\n",
    "                    size = 10,\n",
    "                    color = data_colour_dictionary.get(country)\n",
    "                )\n",
    "            ))  \n",
    "    ##### plotting time #####\n",
    "    \n",
    "     ##### add trendlines #####\n",
    "    if trendline == True:\n",
    "        degree = 50\n",
    "        cutoff_index = -1\n",
    "        dates_ = dates[:cutoff_index]\n",
    "        x = mdates.date2num(dates)\n",
    "        for country in countries_list:\n",
    "            z0 = np.polyfit(x, yvals[dictionary.get(country)], degree)\n",
    "            p0 = np.poly1d(z0)\n",
    "            fig.add_trace(go.Scatter(\n",
    "                x=dates_,\n",
    "                y=p0(x[:cutoff_index]),\n",
    "                showlegend=False,\n",
    "                name = country+'_Trendline',\n",
    "                marker = dict(\n",
    "                    size = 10,\n",
    "                    color = trendline_colour_dictionary.get(country),\n",
    "                )\n",
    "            ))  \n",
    "    ##### add trendlines #####\n",
    "    \n",
    "    ##### setup the axis and annotation ##### \n",
    "    annotation_index,note,xy_coords = annotation\n",
    "    fig.update_layout(\n",
    "        showlegend=True,\n",
    "        title = title,\n",
    "        yaxis_title=ylabel,\n",
    "        annotations=[\n",
    "            dict(\n",
    "                x=dates[annotation_index],\n",
    "                y=yvals[dictionary.get(countries_list[0])][annotation_index],\n",
    "                xref=\"x\",\n",
    "                yref=\"y\",\n",
    "                text=note,\n",
    "                showarrow=True,\n",
    "                arrowhead=7,\n",
    "                ax=xy_coords[0],\n",
    "                ay=xy_coords[1]\n",
    "            )\n",
    "        ],\n",
    "        xaxis = dict(\n",
    "            range=(dates[0], dates[-1]),\n",
    "            constrain='domain'\n",
    "        )\n",
    "    )\n",
    "\n",
    "\n",
    "    \n",
    "    ##### output #####\n",
    "#     fig.write_image('plots/annotated' + str(type_of_plot) + str(cases_or_deaths) + str(countries_list) + 'timeshift='+str(timeshift)+'divide_by_population='+str(divideBy_population)+'.png')\n",
    "    fig.show()\n",
    "    ##### output #####\n",
    "    \n",
    "    \n",
    "#     fig.clf() # a precautionary cleanup\n",
    "\n",
    "plot_with_annotation('new',['Brazil','Australia'],'cases',annotation=[-10,'BBQ',[-80,-40]],\n",
    "                     date_min_index=-29,trendline=True,title='auto',divideBy_population=False)\n"
   ]
  },
  {
   "cell_type": "code",
   "execution_count": 149,
   "metadata": {},
   "outputs": [],
   "source": [
    "def plot_bar(data_tests,top_x=10):\n",
    "    \n",
    "    df_test = data_tests[:top_x]\n",
    "    x = np.arange(len(df_test['Country,Other']))  # the label locations\n",
    "    width = 0.35\n",
    "        \n",
    "    with plt.style.context(style):\n",
    "        fig, ax = plt.subplots(num=style)\n",
    "    rects1 = ax.bar(x - width/2, df_test['Tests_per1Mpop'], width, label='Tests per 1M pop')\n",
    "    rects2 = ax.bar(x + width/2, df_test['TotalDeaths_per1Mpop'], width, label='Deaths per 1M pop')\n",
    "\n",
    "\n",
    "    ax.set_title('Tests and Deaths per 1M people in population')\n",
    "    ax.set_xticks(x)\n",
    "    ax.set_xticklabels(df_test['Country,Other'],rotation=45)\n",
    "    ax.legend()\n",
    "\n",
    "\n",
    "    def autolabel(rects):\n",
    "        \"\"\"Attach a text label above each bar in *rects*, displaying its height.\"\"\"\n",
    "        for rect in rects:\n",
    "            height = rect.get_height()\n",
    "            ax.annotate('{}'.format(height),\n",
    "                        xy=(rect.get_x() + rect.get_width() / 2, height),\n",
    "                        xytext=(0, 3),  # 3 points vertical offset\n",
    "                        textcoords=\"offset points\",\n",
    "                        ha='center', va='bottom')\n",
    "\n",
    "\n",
    "    autolabel(rects1)\n",
    "    autolabel(rects2)\n",
    "\n",
    "    fig.tight_layout()\n",
    "    fig.savefig('plots/'+'bar_plot'+'.png',dpi=100)\n",
    "    plt.show()\n",
    "    \n"
   ]
  },
  {
   "cell_type": "markdown",
   "metadata": {},
   "source": [
    "# Today's Plots:"
   ]
  },
  {
   "cell_type": "code",
   "execution_count": 150,
   "metadata": {},
   "outputs": [
    {
     "name": "stdout",
     "output_type": "stream",
     "text": [
      "auto title would be:new cases divided by population\n"
     ]
    },
    {
     "name": "stderr",
     "output_type": "stream",
     "text": [
      "C:\\Users\\Jordan\\Anaconda3\\lib\\site-packages\\ipykernel_launcher.py:126: RankWarning:\n",
      "\n",
      "Polyfit may be poorly conditioned\n",
      "\n",
      "C:\\Users\\Jordan\\Anaconda3\\lib\\site-packages\\ipykernel_launcher.py:126: RankWarning:\n",
      "\n",
      "Polyfit may be poorly conditioned\n",
      "\n",
      "C:\\Users\\Jordan\\Anaconda3\\lib\\site-packages\\ipykernel_launcher.py:126: RankWarning:\n",
      "\n",
      "Polyfit may be poorly conditioned\n",
      "\n"
     ]
    },
    {
     "data": {
      "image/png": "[encoded data removed]",
      "text/plain": [
       "<Figure size 576x396 with 1 Axes>"
      ]
     },
     "metadata": {},
     "output_type": "display_data"
    },
    {
     "data": {
      "image/png": "[encoded data removed]",
      "text/plain": [
       "<Figure size 576x396 with 1 Axes>"
      ]
     },
     "metadata": {},
     "output_type": "display_data"
    },
    {
     "name": "stderr",
     "output_type": "stream",
     "text": [
      "C:\\Users\\Jordan\\Anaconda3\\lib\\site-packages\\ipykernel_launcher.py:126: RankWarning:\n",
      "\n",
      "Polyfit may be poorly conditioned\n",
      "\n",
      "C:\\Users\\Jordan\\Anaconda3\\lib\\site-packages\\ipykernel_launcher.py:126: RankWarning:\n",
      "\n",
      "Polyfit may be poorly conditioned\n",
      "\n"
     ]
    },
    {
     "data": {
      "image/png": "[encoded data removed]",
      "text/plain": [
       "<Figure size 576x396 with 1 Axes>"
      ]
     },
     "metadata": {},
     "output_type": "display_data"
    }
   ],
   "source": [
    "index=-38\n",
    "plot('new',['UK','Italy','Spain'],'cases',date_min_index=index,trendline=True,divideBy_population=True,title='New Cases each day')\n",
    "plot('cumulative',['Belarus'],'cases',date_min_index=index,title='auto')#annotation='point where ')\n",
    "plot('new',['Australia','Brazil'],'cases',trendline=True,date_min_index=index,annotation=([3,2],'bbq'))\n"
   ]
  },
  {
   "cell_type": "markdown",
   "metadata": {},
   "source": [
    "# My First Theory after looking at the data\n",
    "\n",
    "The above chart seems to show a trend that every day, the number of new cases,N ~ 30% (R) of total cases over 10 days previously.\n",
    "\n",
    "\\begin{equation*}\n",
    "    N(X) = \\left(R \\sum_{x=-10}^{0}N(x) \\right) \n",
    "\\end{equation*}\n",
    "where k is in days"
   ]
  },
  {
   "cell_type": "code",
   "execution_count": 90,
   "metadata": {},
   "outputs": [
    {
     "ename": "NameError",
     "evalue": "name 'yvals_governement_effect' is not defined",
     "output_type": "error",
     "traceback": [
      "\u001b[1;31m---------------------------------------------------------------------------\u001b[0m",
      "\u001b[1;31mNameError\u001b[0m                                 Traceback (most recent call last)",
      "\u001b[1;32m<ipython-input-90-9d9906b299e3>\u001b[0m in \u001b[0;36m<module>\u001b[1;34m\u001b[0m\n\u001b[1;32m----> 1\u001b[1;33m \u001b[0myvals_governement_effect\u001b[0m\u001b[1;33m[\u001b[0m\u001b[0muk_index\u001b[0m\u001b[1;33m]\u001b[0m\u001b[1;33m[\u001b[0m\u001b[1;36m45\u001b[0m\u001b[1;33m:\u001b[0m\u001b[1;33m]\u001b[0m\u001b[1;33m\u001b[0m\u001b[1;33m\u001b[0m\u001b[0m\n\u001b[0m",
      "\u001b[1;31mNameError\u001b[0m: name 'yvals_governement_effect' is not defined"
     ]
    }
   ],
   "source": [
    "yvals_governement_effect[uk_index][45:]"
   ]
  },
  {
   "cell_type": "code",
   "execution_count": null,
   "metadata": {},
   "outputs": [],
   "source": [
    "#start from first value:\n",
    "R = np.mean(yvals_governement_effect[uk_index][47:])/100\n",
    "print(R)"
   ]
  },
  {
   "cell_type": "code",
   "execution_count": null,
   "metadata": {},
   "outputs": [],
   "source": [
    "predictions = np.zeros(shape =(14,2),dtype='object')\n",
    "\n",
    "for i,row in enumerate(predictions):\n",
    "    row[0] = np.datetime64(dates[-10], 'D') + np.timedelta64(i, 'D')\n",
    "    row[1] = yvals_[uk_index][-10+i] \n",
    "    if i == 10:\n",
    "        row[1] += R*(yvals_[uk_index][-1]- yvals_[uk_index][-10]) + predictions[i-1][1]\n",
    "    elif i > 10:\n",
    "        row[1] += R*(predictions[i-1][1] - yvals_[uk_index][i-20]) + predictions[i-1][1]\n",
    "\n",
    "\n",
    "predictions"
   ]
  },
  {
   "cell_type": "code",
   "execution_count": null,
   "metadata": {},
   "outputs": [],
   "source": []
  },
  {
   "cell_type": "code",
   "execution_count": null,
   "metadata": {},
   "outputs": [],
   "source": []
  }
 ],
 "metadata": {
  "kernelspec": {
   "display_name": "Python 3",
   "language": "python",
   "name": "python3"
  },
  "language_info": {
   "codemirror_mode": {
    "name": "ipython",
    "version": 3
   },
   "file_extension": ".py",
   "mimetype": "text/x-python",
   "name": "python",
   "nbconvert_exporter": "python",
   "pygments_lexer": "ipython3",
   "version": "3.7.3"
  }
 },
 "nbformat": 4,
 "nbformat_minor": 2
}
